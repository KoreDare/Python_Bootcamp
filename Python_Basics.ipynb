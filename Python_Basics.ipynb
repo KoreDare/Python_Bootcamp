{
  "nbformat": 4,
  "nbformat_minor": 0,
  "metadata": {
    "colab": {
      "provenance": [],
      "authorship_tag": "ABX9TyPRWJsr37sM2SGw82YZge/c",
      "include_colab_link": true
    },
    "kernelspec": {
      "name": "python3",
      "display_name": "Python 3"
    },
    "language_info": {
      "name": "python"
    }
  },
  "cells": [
    {
      "cell_type": "markdown",
      "metadata": {
        "id": "view-in-github",
        "colab_type": "text"
      },
      "source": [
        "<a href=\"https://colab.research.google.com/github/KoreDare/Python_Bootcamp/blob/main/Python_Basics.ipynb\" target=\"_parent\"><img src=\"https://colab.research.google.com/assets/colab-badge.svg\" alt=\"Open In Colab\"/></a>"
      ]
    },
    {
      "cell_type": "code",
      "execution_count": null,
      "metadata": {
        "id": "R6MSkhn9Zju5",
        "colab": {
          "base_uri": "https://localhost:8080/"
        },
        "outputId": "d2b2bf39-5118-44c4-8c7b-be2af05ace41"
      },
      "outputs": [
        {
          "output_type": "stream",
          "name": "stdout",
          "text": [
            "Apple\n",
            "Pineapple\n",
            "Banana\n",
            "Mango\n"
          ]
        }
      ],
      "source": [
        "fruit = \"Banana\"\n",
        "Fruit = 'Apple'\n",
        "fruiT = 'Pineapple'\n",
        "frUIt = 'Mango'\n",
        "\n",
        "print(Fruit)\n",
        "print(fruiT)\n",
        "print(fruit)\n",
        "print(frUIt)"
      ]
    },
    {
      "cell_type": "code",
      "source": [
        "print('Welcome to the session.')\n",
        "\n",
        "fruit = 'Apple'\n",
        "\n",
        "if fruit == 'Apple':\n",
        "  print('Yes it is apple')\n",
        "\n",
        "\n",
        "print(\"This is not an indentation.\")"
      ],
      "metadata": {
        "colab": {
          "base_uri": "https://localhost:8080/"
        },
        "id": "K7iMkfKs6xn9",
        "outputId": "3180937c-4124-4e41-dda5-6425a11669c4"
      },
      "execution_count": null,
      "outputs": [
        {
          "output_type": "stream",
          "name": "stdout",
          "text": [
            "Welcome to the session.\n",
            "Yes it is apple\n",
            "This is not an indentation.\n"
          ]
        }
      ]
    },
    {
      "cell_type": "code",
      "source": [
        "# This is an If Condition\n",
        "\n",
        "fruit = 'Banana'\n",
        "\n",
        "if Fruit == 'Banana':\n",
        "  print('Yes, it is banana')"
      ],
      "metadata": {
        "id": "gpllf_Iz8goG"
      },
      "execution_count": null,
      "outputs": []
    },
    {
      "cell_type": "code",
      "source": [
        "# This is a single line comment\n",
        "\n",
        "'''\n",
        "This is\n",
        "a multi-line\n",
        "comment\n",
        "'''\n",
        "\n",
        "\"\"\"\n",
        "This is\n",
        "a multi-line\n",
        "comment\n",
        "\"\"\""
      ],
      "metadata": {
        "id": "k-GYd1Df9nq-"
      },
      "execution_count": null,
      "outputs": []
    },
    {
      "cell_type": "code",
      "source": [
        "num = 100\n",
        "name = 'Korede'\n",
        "marks = 99.90\n",
        "isStudent = True\n",
        "\n",
        "print(type(num))\n",
        "print(type(name))\n",
        "print(type(marks))\n",
        "print(type(isStudent))"
      ],
      "metadata": {
        "colab": {
          "base_uri": "https://localhost:8080/"
        },
        "id": "1LjoStY2-F7p",
        "outputId": "53b2122b-4ef0-41ae-cb01-d3d093816514"
      },
      "execution_count": null,
      "outputs": [
        {
          "output_type": "stream",
          "name": "stdout",
          "text": [
            "<class 'int'>\n",
            "<class 'str'>\n",
            "<class 'float'>\n",
            "<class 'bool'>\n"
          ]
        }
      ]
    },
    {
      "cell_type": "code",
      "source": [
        "# This is a List\n",
        "fruits = ['Apple', 'Banana', 'Pineapple', 'Grapes']\n",
        "print(fruits)\n",
        "print(type(fruits))\n",
        "\n",
        "fruits.append('Mango')\n",
        "fruits.append('Guava')\n",
        "print(fruits)"
      ],
      "metadata": {
        "colab": {
          "base_uri": "https://localhost:8080/"
        },
        "id": "nPDy1QJ--9rT",
        "outputId": "68223ae8-bd83-4fb7-cc81-4841a5ca405d"
      },
      "execution_count": null,
      "outputs": [
        {
          "output_type": "stream",
          "name": "stdout",
          "text": [
            "['Apple', 'Banana', 'Pineapple', 'Grapes']\n",
            "<class 'list'>\n",
            "['Apple', 'Banana', 'Pineapple', 'Grapes', 'Mango', 'Guava']\n"
          ]
        }
      ]
    },
    {
      "cell_type": "code",
      "source": [
        "# This is a Tuple\n",
        "fruits = ('Apple', 'Banana', 'Pineapple')\n",
        "print(fruits)\n",
        "print(type(fruits))\n",
        "\n",
        "\"\"\"\n",
        "Note that Tuple cannot be updated like List,\n",
        "unless you first convert it to List, update,\n",
        "then convert it back to Tuple. That is why we have attribute error\n",
        "\"\"\"\n",
        "fruits.append('Mango')\n",
        "print(fruits)"
      ],
      "metadata": {
        "colab": {
          "base_uri": "https://localhost:8080/",
          "height": 228
        },
        "id": "Wlc9Hfs6_64z",
        "outputId": "d2edd537-40dc-4b6a-f457-3aad7a58edf8"
      },
      "execution_count": null,
      "outputs": [
        {
          "output_type": "stream",
          "name": "stdout",
          "text": [
            "('Apple', 'Banana', 'Pineapple')\n",
            "<class 'tuple'>\n"
          ]
        },
        {
          "output_type": "error",
          "ename": "AttributeError",
          "evalue": "'tuple' object has no attribute 'append'",
          "traceback": [
            "\u001b[0;31m---------------------------------------------------------------------------\u001b[0m",
            "\u001b[0;31mAttributeError\u001b[0m                            Traceback (most recent call last)",
            "\u001b[0;32m<ipython-input-14-7731c2761f00>\u001b[0m in \u001b[0;36m<cell line: 0>\u001b[0;34m()\u001b[0m\n\u001b[1;32m      4\u001b[0m \u001b[0mprint\u001b[0m\u001b[0;34m(\u001b[0m\u001b[0mtype\u001b[0m\u001b[0;34m(\u001b[0m\u001b[0mfruits\u001b[0m\u001b[0;34m)\u001b[0m\u001b[0;34m)\u001b[0m\u001b[0;34m\u001b[0m\u001b[0;34m\u001b[0m\u001b[0m\n\u001b[1;32m      5\u001b[0m \u001b[0;34m\u001b[0m\u001b[0m\n\u001b[0;32m----> 6\u001b[0;31m \u001b[0mfruits\u001b[0m\u001b[0;34m.\u001b[0m\u001b[0mappend\u001b[0m\u001b[0;34m(\u001b[0m\u001b[0;34m'Mango'\u001b[0m\u001b[0;34m)\u001b[0m\u001b[0;34m\u001b[0m\u001b[0;34m\u001b[0m\u001b[0m\n\u001b[0m\u001b[1;32m      7\u001b[0m \u001b[0mprint\u001b[0m\u001b[0;34m(\u001b[0m\u001b[0mfruits\u001b[0m\u001b[0;34m)\u001b[0m\u001b[0;34m\u001b[0m\u001b[0;34m\u001b[0m\u001b[0m\n",
            "\u001b[0;31mAttributeError\u001b[0m: 'tuple' object has no attribute 'append'"
          ]
        }
      ]
    },
    {
      "cell_type": "code",
      "source": [
        "a = 40\n",
        "b = 15\n",
        "\n",
        "# Arithmetic Operation\n",
        "print(a+b)\n",
        "print(a-b)\n",
        "print(a*b)\n",
        "print(a/b)\n",
        "print(a//b)\n",
        "print(a**b)\n",
        "\n",
        "print('The addition of', a, 'and', b, 'is', a+b)"
      ],
      "metadata": {
        "colab": {
          "base_uri": "https://localhost:8080/"
        },
        "id": "i4iceCSzAu4_",
        "outputId": "cbbc35ef-4203-464a-f77b-d14f830d5254"
      },
      "execution_count": null,
      "outputs": [
        {
          "output_type": "stream",
          "name": "stdout",
          "text": [
            "55\n",
            "25\n",
            "600\n",
            "2.6666666666666665\n",
            "2\n",
            "1073741824000000000000000\n",
            "The addition of 40 and 15 is 55\n"
          ]
        }
      ]
    },
    {
      "cell_type": "code",
      "source": [
        "a = 40\n",
        "b = 15\n",
        "\n",
        "print('The addition of', a, 'and', b, 'is', a+b)\n",
        "print('The subtraction of', b, 'from', a, 'is', a-b)\n",
        "print('The multiplication of', a, 'and', b, 'is', a*b)\n",
        "print('The division of', a, 'and', b, 'is', a/b)"
      ],
      "metadata": {
        "colab": {
          "base_uri": "https://localhost:8080/"
        },
        "id": "u7oeNHP3E3_X",
        "outputId": "af10c741-468e-48d2-c00c-4cc2aeacb92f"
      },
      "execution_count": null,
      "outputs": [
        {
          "output_type": "stream",
          "name": "stdout",
          "text": [
            "The addition of 40 and 15 is 55\n",
            "The subtraction of 15 from 40 is 25\n",
            "The multiplication of 40 and 15 is 600\n",
            "The division of 40 and 15 is 2.6666666666666665\n"
          ]
        }
      ]
    },
    {
      "cell_type": "code",
      "source": [
        "# Input Function\n",
        "name =input('Enter your name: ')\n",
        "\n",
        "# Output Function\n",
        "print('My name is', name)"
      ],
      "metadata": {
        "colab": {
          "base_uri": "https://localhost:8080/"
        },
        "id": "Tsj92gaVGWXk",
        "outputId": "0ea61ab2-756e-40d8-81d3-907dbe56f9fe"
      },
      "execution_count": null,
      "outputs": [
        {
          "output_type": "stream",
          "name": "stdout",
          "text": [
            "Enter your name: Korede\n",
            "My name is Korede\n"
          ]
        }
      ]
    },
    {
      "cell_type": "markdown",
      "source": [
        "Note: Python takes note of the last command. So unless you insert the print command after each line, it will not retain the information of fruit as Banana, because the information of fruit = 'Orange' has overridden the previous information."
      ],
      "metadata": {
        "id": "kHzNHv_adNcj"
      }
    },
    {
      "cell_type": "code",
      "source": [
        "fruit = 'Banana'\n",
        "fruit = 'Orange'\n",
        "Fruit = 'Mango'\n",
        "fRUit = 'Guava'\n",
        "fruiT = 'Lemon'\n",
        "\n",
        "print(fruit)\n",
        "print(fruit)\n",
        "print(Fruit)\n",
        "print(fRUit)\n",
        "print(fruiT)"
      ],
      "metadata": {
        "colab": {
          "base_uri": "https://localhost:8080/"
        },
        "id": "76KhUrY2YtHs",
        "outputId": "890cdb21-4225-4ff1-8796-99eb0a21e65d"
      },
      "execution_count": null,
      "outputs": [
        {
          "output_type": "stream",
          "name": "stdout",
          "text": [
            "Orange\n",
            "Orange\n",
            "Mango\n",
            "Guava\n",
            "Lemon\n"
          ]
        }
      ]
    },
    {
      "cell_type": "code",
      "source": [
        "a = 'This is our string.'\n",
        "print(a)\n",
        "\n",
        "print(a.upper())\n",
        "print(a.lower())\n",
        "print(a.title())"
      ],
      "metadata": {
        "colab": {
          "base_uri": "https://localhost:8080/"
        },
        "id": "Qdu96BMRaE0U",
        "outputId": "6800fef4-3b33-45e7-88d3-6a16d45079a4"
      },
      "execution_count": null,
      "outputs": [
        {
          "output_type": "stream",
          "name": "stdout",
          "text": [
            "This is our string.\n",
            "THIS IS OUR STRING.\n",
            "this is our string.\n",
            "This Is Our String.\n"
          ]
        }
      ]
    },
    {
      "cell_type": "code",
      "source": [
        "student = '         Korede Oluwadare    '\n",
        "\n",
        "print(student)\n",
        "print(student.strip())\n",
        "print(student.lstrip())\n",
        "print(student.rstrip())"
      ],
      "metadata": {
        "colab": {
          "base_uri": "https://localhost:8080/"
        },
        "id": "XxQTelAFeV9F",
        "outputId": "4ec4b7ef-ad7d-4135-febd-48fa3bb83cb0"
      },
      "execution_count": null,
      "outputs": [
        {
          "output_type": "stream",
          "name": "stdout",
          "text": [
            "         Korede Oluwadare    \n",
            "Korede Oluwadare\n",
            "Korede Oluwadare    \n",
            "         Korede Oluwadare\n"
          ]
        }
      ]
    },
    {
      "cell_type": "code",
      "source": [
        "data = \"\"\"Tesla has labor disputes in the United States, Germany and Sweden, including an ongoing strike\n",
        "in Sweden. Elon Musk, the CEO of Tesla, has expressed his opposition to unions on Twitter (now called X). The\n",
        "NLRB held that one tweet was an threat, but was overturned by a federal appeals court. All unionization efforts at the Tesla\n",
        "Fremont Factory and Gigafactory New York in the United States have been unsuccessful. In Germany, Gigafactory Berlin-Brandenburg\n",
        "and Tesla Automation have elected works councils, but they have not signed collective bargaining agreements with the\n",
        "German trade union IG Metall (members pictured).\n",
        "\"\"\"\n",
        "\n",
        "# index always starts from 0\n",
        "print(data.find('Tesla'))\n",
        "print(data.find('labor'))\n",
        "print(data.replace('Tesla', 'Volkswagen'))"
      ],
      "metadata": {
        "colab": {
          "base_uri": "https://localhost:8080/"
        },
        "id": "p9tQvxUegDHl",
        "outputId": "4de1cd7a-f25d-4083-cace-527e5af822ae"
      },
      "execution_count": null,
      "outputs": [
        {
          "output_type": "stream",
          "name": "stdout",
          "text": [
            "0\n",
            "10\n",
            "Volkswagen has labor disputes in the United States, Germany and Sweden, including an ongoing strike \n",
            "in Sweden. Elon Musk, the CEO of Volkswagen, has expressed his opposition to unions on Twitter (now called X). The \n",
            "NLRB held that one tweet was an threat, but was overturned by a federal appeals court. All unionization efforts at the Volkswagen \n",
            "Fremont Factory and Gigafactory New York in the United States have been unsuccessful. In Germany, Gigafactory Berlin-Brandenburg \n",
            "and Volkswagen Automation have elected works councils, but they have not signed collective bargaining agreements with the \n",
            "German trade union IG Metall (members pictured).\n",
            "\n"
          ]
        }
      ]
    },
    {
      "cell_type": "code",
      "source": [
        "names = 'Korede, Peter, Sharon'\n",
        "\n",
        "print(names.split(','))\n",
        "print('-'.join(names))"
      ],
      "metadata": {
        "colab": {
          "base_uri": "https://localhost:8080/"
        },
        "id": "vNBuqcGLumCM",
        "outputId": "438bc2f1-2cc1-4c83-d66a-4a17d5aea713"
      },
      "execution_count": null,
      "outputs": [
        {
          "output_type": "stream",
          "name": "stdout",
          "text": [
            "['Korede', ' Peter', ' Sharon']\n",
            "K-o-r-e-d-e-,- -P-e-t-e-r-,- -S-h-a-r-o-n\n"
          ]
        }
      ]
    },
    {
      "cell_type": "code",
      "source": [
        "names = 'Korede Peter Sharon'\n",
        "\n",
        "print(names.split(' '))\n",
        "print('-'.join(names))"
      ],
      "metadata": {
        "colab": {
          "base_uri": "https://localhost:8080/"
        },
        "id": "eZLfLoliZjhZ",
        "outputId": "e06c1e2f-67a8-454f-a4f9-9ddde69eae37"
      },
      "execution_count": null,
      "outputs": [
        {
          "output_type": "stream",
          "name": "stdout",
          "text": [
            "['Korede', 'Peter', 'Sharon']\n",
            "K-o-r-e-d-e- -P-e-t-e-r- -S-h-a-r-o-n\n"
          ]
        }
      ]
    },
    {
      "cell_type": "code",
      "source": [
        "names = ['Korede','Peter','Sharon']\n",
        "\n",
        "print('-'.join(names))"
      ],
      "metadata": {
        "colab": {
          "base_uri": "https://localhost:8080/"
        },
        "id": "2gA8O5Weff6r",
        "outputId": "8b21c2cd-61e4-4cf5-8868-d6da000213c9"
      },
      "execution_count": null,
      "outputs": [
        {
          "output_type": "stream",
          "name": "stdout",
          "text": [
            "Korede-Peter-Sharon\n"
          ]
        }
      ]
    },
    {
      "cell_type": "code",
      "source": [
        "data = 'This is sample data.'\n",
        "\n",
        "print(data.startswith('T'))\n",
        "print(data.startswith('I'))\n",
        "print(data.endswith('this'))\n",
        "print(data.endswith('.'))\n",
        "print(data.isdigit())"
      ],
      "metadata": {
        "colab": {
          "base_uri": "https://localhost:8080/"
        },
        "id": "oxY1127-1jC_",
        "outputId": "48bf6317-1a4c-46c8-c5f1-59c529a0aa06"
      },
      "execution_count": null,
      "outputs": [
        {
          "output_type": "stream",
          "name": "stdout",
          "text": [
            "True\n",
            "False\n",
            "False\n",
            "True\n",
            "False\n"
          ]
        }
      ]
    },
    {
      "cell_type": "code",
      "source": [
        "fruits = ['Apple', 'Banana', 'Cherry']\n",
        "print(fruits)\n",
        "\n",
        "fruits.append('Mango')    # This will add element in the list ('last')\n",
        "print(fruits)\n",
        "\n",
        "fruits.insert(1, 'Orange') # This will add element according to the index number\n",
        "print(fruits)\n",
        "\n",
        "fruits.remove('Banana')   # This will remove element in the list\n",
        "print(fruits)\n",
        "\n",
        "fruits.pop()            # This will remove the last element in the list\n",
        "print(fruits)\n",
        "\n",
        "fruits.sort()\n",
        "print(fruits)\n",
        "\n",
        "fruits.reverse()\n",
        "print(fruits)"
      ],
      "metadata": {
        "id": "SgYkCppt2jjK",
        "colab": {
          "base_uri": "https://localhost:8080/"
        },
        "outputId": "67aaeac9-363c-4533-c3a3-178c837dcbd5"
      },
      "execution_count": 8,
      "outputs": [
        {
          "output_type": "stream",
          "name": "stdout",
          "text": [
            "['Apple', 'Banana', 'Cherry']\n",
            "['Apple', 'Banana', 'Cherry', 'Mango']\n",
            "['Apple', 'Orange', 'Banana', 'Cherry', 'Mango']\n",
            "['Apple', 'Orange', 'Cherry', 'Mango']\n",
            "['Apple', 'Orange', 'Cherry']\n",
            "['Apple', 'Cherry', 'Orange']\n",
            "['Orange', 'Cherry', 'Apple']\n"
          ]
        }
      ]
    },
    {
      "cell_type": "code",
      "source": [
        "# Tuple Methods\n",
        "# Note that tuple is not changeable - you cannot use append, insert or the rest like you use in lists\n",
        "# Therefore to use those variables, you must first convert tuple to list, then convert back to tuple\n",
        "# The only variables that you can use are 'count' and 'index'\n",
        "\n",
        "names = ('Korede', 'Lydia', 'Walter', 'Tope', 'Korede')\n",
        "\n",
        "print(names)\n",
        "print(names.count('Lydia'))\n",
        "print(names.index('Korede'))\n",
        "print(names.index('Walter'))\n",
        "\n",
        "# Convert Tuple into a List\n",
        "list_names = list(names)\n",
        "list_names.append('Tabitha')\n",
        "\n",
        "print(list_names)\n",
        "\n",
        "# Convert a List into Tuple\n",
        "\n",
        "tuple_names = tuple(list_names)\n",
        "print(tuple_names)\n",
        "\n",
        "# Accessing Tuple or List values\n",
        "print(names[1])\n",
        "print(names[3])"
      ],
      "metadata": {
        "colab": {
          "base_uri": "https://localhost:8080/"
        },
        "id": "EtPL_JKFBWcX",
        "outputId": "7ff8d490-2ec9-4a2b-ed61-0086f5cde818"
      },
      "execution_count": 16,
      "outputs": [
        {
          "output_type": "stream",
          "name": "stdout",
          "text": [
            "('Korede', 'Lydia', 'Walter', 'Tope', 'Korede')\n",
            "1\n",
            "0\n",
            "2\n",
            "['Korede', 'Lydia', 'Walter', 'Tope', 'Korede', 'Tabitha']\n",
            "('Korede', 'Lydia', 'Walter', 'Tope', 'Korede', 'Tabitha')\n",
            "Lydia\n",
            "Tope\n"
          ]
        }
      ]
    },
    {
      "cell_type": "code",
      "source": [
        "names_1 = ['Korede', 'Lydia', 'Walter', 'Tope', 'Melody']\n",
        "\n",
        "print(names_1[0:3])\n",
        "print(names_1[0:2])\n",
        "print(names_1[4])\n",
        "print(names_1[-1])\n",
        "print(names_1[1:4])"
      ],
      "metadata": {
        "colab": {
          "base_uri": "https://localhost:8080/"
        },
        "id": "vMXWJXhuEcG5",
        "outputId": "e219ad56-06a3-4522-f08b-a30cad7610f9"
      },
      "execution_count": 21,
      "outputs": [
        {
          "output_type": "stream",
          "name": "stdout",
          "text": [
            "['Korede', 'Lydia', 'Walter']\n",
            "['Korede', 'Lydia']\n",
            "Melody\n",
            "Melody\n",
            "['Lydia', 'Walter', 'Tope']\n"
          ]
        }
      ]
    },
    {
      "cell_type": "code",
      "source": [
        "dict_1 = {\n",
        "    'Name' : 'Korede',\n",
        "    'Age' : 44,\n",
        "    'isStudent' : True\n",
        "}\n",
        "\n",
        "print(dict_1)\n",
        "print(dict_1.keys())\n",
        "print(dict_1.values())\n",
        "print(dict_1['Name'])\n",
        "print('My name is',dict_1['Name'], 'I am',dict_1['Age'], 'years old.')"
      ],
      "metadata": {
        "colab": {
          "base_uri": "https://localhost:8080/"
        },
        "id": "x7D5gRjkGw_Q",
        "outputId": "21cac7a0-fa0d-43a3-cb13-50320f57ec72"
      },
      "execution_count": 31,
      "outputs": [
        {
          "output_type": "stream",
          "name": "stdout",
          "text": [
            "{'Name': 'Korede', 'Age': 44, 'isStudent': True}\n",
            "dict_keys(['Name', 'Age', 'isStudent'])\n",
            "dict_values(['Korede', 44, True])\n",
            "Korede\n",
            "My name is Korede I am 44 years old.\n"
          ]
        }
      ]
    }
  ]
}