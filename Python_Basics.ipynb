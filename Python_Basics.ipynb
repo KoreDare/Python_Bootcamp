{
  "nbformat": 4,
  "nbformat_minor": 0,
  "metadata": {
    "colab": {
      "provenance": [],
      "authorship_tag": "ABX9TyN/wAhFYO9kXP02gR6O2zOK",
      "include_colab_link": true
    },
    "kernelspec": {
      "name": "python3",
      "display_name": "Python 3"
    },
    "language_info": {
      "name": "python"
    }
  },
  "cells": [
    {
      "cell_type": "markdown",
      "metadata": {
        "id": "view-in-github",
        "colab_type": "text"
      },
      "source": [
        "<a href=\"https://colab.research.google.com/github/KoreDare/Python_Bootcamp/blob/main/Python_Basics.ipynb\" target=\"_parent\"><img src=\"https://colab.research.google.com/assets/colab-badge.svg\" alt=\"Open In Colab\"/></a>"
      ]
    },
    {
      "cell_type": "code",
      "execution_count": null,
      "metadata": {
        "id": "R6MSkhn9Zju5",
        "colab": {
          "base_uri": "https://localhost:8080/"
        },
        "outputId": "d2b2bf39-5118-44c4-8c7b-be2af05ace41"
      },
      "outputs": [
        {
          "output_type": "stream",
          "name": "stdout",
          "text": [
            "Apple\n",
            "Pineapple\n",
            "Banana\n",
            "Mango\n"
          ]
        }
      ],
      "source": [
        "fruit = \"Banana\"\n",
        "Fruit = 'Apple'\n",
        "fruiT = 'Pineapple'\n",
        "frUIt = 'Mango'\n",
        "\n",
        "print(Fruit)\n",
        "print(fruiT)\n",
        "print(fruit)\n",
        "print(frUIt)"
      ]
    },
    {
      "cell_type": "code",
      "source": [
        "print('Welcome to the session.')\n",
        "\n",
        "fruit = 'Apple'\n",
        "\n",
        "if fruit == 'Apple':\n",
        "  print('Yes it is apple')\n",
        "\n",
        "\n",
        "print(\"This is not an indentation.\")"
      ],
      "metadata": {
        "colab": {
          "base_uri": "https://localhost:8080/"
        },
        "id": "K7iMkfKs6xn9",
        "outputId": "3180937c-4124-4e41-dda5-6425a11669c4"
      },
      "execution_count": null,
      "outputs": [
        {
          "output_type": "stream",
          "name": "stdout",
          "text": [
            "Welcome to the session.\n",
            "Yes it is apple\n",
            "This is not an indentation.\n"
          ]
        }
      ]
    },
    {
      "cell_type": "code",
      "source": [
        "# This is an If Condition\n",
        "\n",
        "fruit = 'Banana'\n",
        "\n",
        "if Fruit == 'Banana':\n",
        "  print('Yes, it is banana')"
      ],
      "metadata": {
        "id": "gpllf_Iz8goG"
      },
      "execution_count": null,
      "outputs": []
    },
    {
      "cell_type": "code",
      "source": [
        "# This is a single line comment\n",
        "\n",
        "'''\n",
        "This is\n",
        "a multi-line\n",
        "comment\n",
        "'''\n",
        "\n",
        "\"\"\"\n",
        "This is\n",
        "a multi-line\n",
        "comment\n",
        "\"\"\""
      ],
      "metadata": {
        "id": "k-GYd1Df9nq-"
      },
      "execution_count": null,
      "outputs": []
    },
    {
      "cell_type": "code",
      "source": [
        "num = 100\n",
        "name = 'Korede'\n",
        "marks = 99.90\n",
        "isStudent = True\n",
        "\n",
        "print(type(num))\n",
        "print(type(name))\n",
        "print(type(marks))\n",
        "print(type(isStudent))"
      ],
      "metadata": {
        "colab": {
          "base_uri": "https://localhost:8080/"
        },
        "id": "1LjoStY2-F7p",
        "outputId": "53b2122b-4ef0-41ae-cb01-d3d093816514"
      },
      "execution_count": null,
      "outputs": [
        {
          "output_type": "stream",
          "name": "stdout",
          "text": [
            "<class 'int'>\n",
            "<class 'str'>\n",
            "<class 'float'>\n",
            "<class 'bool'>\n"
          ]
        }
      ]
    },
    {
      "cell_type": "code",
      "source": [
        "# This is a List\n",
        "fruits = ['Apple', 'Banana', 'Pineapple', 'Grapes']\n",
        "print(fruits)\n",
        "print(type(fruits))\n",
        "\n",
        "fruits.append('Mango')\n",
        "fruits.append('Guava')\n",
        "print(fruits)"
      ],
      "metadata": {
        "colab": {
          "base_uri": "https://localhost:8080/"
        },
        "id": "nPDy1QJ--9rT",
        "outputId": "68223ae8-bd83-4fb7-cc81-4841a5ca405d"
      },
      "execution_count": null,
      "outputs": [
        {
          "output_type": "stream",
          "name": "stdout",
          "text": [
            "['Apple', 'Banana', 'Pineapple', 'Grapes']\n",
            "<class 'list'>\n",
            "['Apple', 'Banana', 'Pineapple', 'Grapes', 'Mango', 'Guava']\n"
          ]
        }
      ]
    },
    {
      "cell_type": "code",
      "source": [
        "# This is a Tuple\n",
        "fruits = ('Apple', 'Banana', 'Pineapple')\n",
        "print(fruits)\n",
        "print(type(fruits))\n",
        "\n",
        "\"\"\"\n",
        "Note that Tuple cannot be updated like List,\n",
        "unless you first convert it to List, update,\n",
        "then convert it back to Tuple. That is why we have attribute error\n",
        "\"\"\"\n",
        "fruits.append('Mango')\n",
        "print(fruits)"
      ],
      "metadata": {
        "colab": {
          "base_uri": "https://localhost:8080/",
          "height": 228
        },
        "id": "Wlc9Hfs6_64z",
        "outputId": "d2edd537-40dc-4b6a-f457-3aad7a58edf8"
      },
      "execution_count": null,
      "outputs": [
        {
          "output_type": "stream",
          "name": "stdout",
          "text": [
            "('Apple', 'Banana', 'Pineapple')\n",
            "<class 'tuple'>\n"
          ]
        },
        {
          "output_type": "error",
          "ename": "AttributeError",
          "evalue": "'tuple' object has no attribute 'append'",
          "traceback": [
            "\u001b[0;31m---------------------------------------------------------------------------\u001b[0m",
            "\u001b[0;31mAttributeError\u001b[0m                            Traceback (most recent call last)",
            "\u001b[0;32m<ipython-input-14-7731c2761f00>\u001b[0m in \u001b[0;36m<cell line: 0>\u001b[0;34m()\u001b[0m\n\u001b[1;32m      4\u001b[0m \u001b[0mprint\u001b[0m\u001b[0;34m(\u001b[0m\u001b[0mtype\u001b[0m\u001b[0;34m(\u001b[0m\u001b[0mfruits\u001b[0m\u001b[0;34m)\u001b[0m\u001b[0;34m)\u001b[0m\u001b[0;34m\u001b[0m\u001b[0;34m\u001b[0m\u001b[0m\n\u001b[1;32m      5\u001b[0m \u001b[0;34m\u001b[0m\u001b[0m\n\u001b[0;32m----> 6\u001b[0;31m \u001b[0mfruits\u001b[0m\u001b[0;34m.\u001b[0m\u001b[0mappend\u001b[0m\u001b[0;34m(\u001b[0m\u001b[0;34m'Mango'\u001b[0m\u001b[0;34m)\u001b[0m\u001b[0;34m\u001b[0m\u001b[0;34m\u001b[0m\u001b[0m\n\u001b[0m\u001b[1;32m      7\u001b[0m \u001b[0mprint\u001b[0m\u001b[0;34m(\u001b[0m\u001b[0mfruits\u001b[0m\u001b[0;34m)\u001b[0m\u001b[0;34m\u001b[0m\u001b[0;34m\u001b[0m\u001b[0m\n",
            "\u001b[0;31mAttributeError\u001b[0m: 'tuple' object has no attribute 'append'"
          ]
        }
      ]
    },
    {
      "cell_type": "code",
      "source": [
        "a = 40\n",
        "b = 15\n",
        "\n",
        "# Arithmetic Operation\n",
        "print(a+b)\n",
        "print(a-b)\n",
        "print(a*b)\n",
        "print(a/b)\n",
        "print(a//b)\n",
        "print(a**b)\n",
        "\n",
        "print('The addition of', a, 'and', b, 'is', a+b)"
      ],
      "metadata": {
        "colab": {
          "base_uri": "https://localhost:8080/"
        },
        "id": "i4iceCSzAu4_",
        "outputId": "cbbc35ef-4203-464a-f77b-d14f830d5254"
      },
      "execution_count": null,
      "outputs": [
        {
          "output_type": "stream",
          "name": "stdout",
          "text": [
            "55\n",
            "25\n",
            "600\n",
            "2.6666666666666665\n",
            "2\n",
            "1073741824000000000000000\n",
            "The addition of 40 and 15 is 55\n"
          ]
        }
      ]
    },
    {
      "cell_type": "code",
      "source": [
        "a = 40\n",
        "b = 15\n",
        "\n",
        "print('The addition of', a, 'and', b, 'is', a+b)\n",
        "print('The subtraction of', b, 'from', a, 'is', a-b)\n",
        "print('The multiplication of', a, 'and', b, 'is', a*b)\n",
        "print('The division of', a, 'and', b, 'is', a/b)"
      ],
      "metadata": {
        "colab": {
          "base_uri": "https://localhost:8080/"
        },
        "id": "u7oeNHP3E3_X",
        "outputId": "af10c741-468e-48d2-c00c-4cc2aeacb92f"
      },
      "execution_count": null,
      "outputs": [
        {
          "output_type": "stream",
          "name": "stdout",
          "text": [
            "The addition of 40 and 15 is 55\n",
            "The subtraction of 15 from 40 is 25\n",
            "The multiplication of 40 and 15 is 600\n",
            "The division of 40 and 15 is 2.6666666666666665\n"
          ]
        }
      ]
    },
    {
      "cell_type": "code",
      "source": [
        "# Input Function\n",
        "name =input('Enter your name: ')\n",
        "\n",
        "# Output Function\n",
        "print('My name is', name)"
      ],
      "metadata": {
        "colab": {
          "base_uri": "https://localhost:8080/"
        },
        "id": "Tsj92gaVGWXk",
        "outputId": "0ea61ab2-756e-40d8-81d3-907dbe56f9fe"
      },
      "execution_count": null,
      "outputs": [
        {
          "output_type": "stream",
          "name": "stdout",
          "text": [
            "Enter your name: Korede\n",
            "My name is Korede\n"
          ]
        }
      ]
    },
    {
      "cell_type": "markdown",
      "source": [
        "Note: Python takes note of the last command. So unless you insert the print command after each line, it will not retain the information of fruit as Banana, because the information of fruit = 'Orange' has overridden the previous information."
      ],
      "metadata": {
        "id": "kHzNHv_adNcj"
      }
    },
    {
      "cell_type": "code",
      "source": [
        "fruit = 'Banana'\n",
        "fruit = 'Orange'\n",
        "Fruit = 'Mango'\n",
        "fRUit = 'Guava'\n",
        "fruiT = 'Lemon'\n",
        "\n",
        "print(fruit)\n",
        "print(fruit)\n",
        "print(Fruit)\n",
        "print(fRUit)\n",
        "print(fruiT)"
      ],
      "metadata": {
        "colab": {
          "base_uri": "https://localhost:8080/"
        },
        "id": "76KhUrY2YtHs",
        "outputId": "890cdb21-4225-4ff1-8796-99eb0a21e65d"
      },
      "execution_count": null,
      "outputs": [
        {
          "output_type": "stream",
          "name": "stdout",
          "text": [
            "Orange\n",
            "Orange\n",
            "Mango\n",
            "Guava\n",
            "Lemon\n"
          ]
        }
      ]
    },
    {
      "cell_type": "code",
      "source": [
        "a = 'This is our string.'\n",
        "print(a)\n",
        "\n",
        "print(a.upper())\n",
        "print(a.lower())\n",
        "print(a.title())"
      ],
      "metadata": {
        "colab": {
          "base_uri": "https://localhost:8080/"
        },
        "id": "Qdu96BMRaE0U",
        "outputId": "6800fef4-3b33-45e7-88d3-6a16d45079a4"
      },
      "execution_count": null,
      "outputs": [
        {
          "output_type": "stream",
          "name": "stdout",
          "text": [
            "This is our string.\n",
            "THIS IS OUR STRING.\n",
            "this is our string.\n",
            "This Is Our String.\n"
          ]
        }
      ]
    },
    {
      "cell_type": "code",
      "source": [
        "student = '         Korede Oluwadare    '\n",
        "\n",
        "print(student)\n",
        "print(student.strip())\n",
        "print(student.lstrip())\n",
        "print(student.rstrip())"
      ],
      "metadata": {
        "colab": {
          "base_uri": "https://localhost:8080/"
        },
        "id": "XxQTelAFeV9F",
        "outputId": "4ec4b7ef-ad7d-4135-febd-48fa3bb83cb0"
      },
      "execution_count": null,
      "outputs": [
        {
          "output_type": "stream",
          "name": "stdout",
          "text": [
            "         Korede Oluwadare    \n",
            "Korede Oluwadare\n",
            "Korede Oluwadare    \n",
            "         Korede Oluwadare\n"
          ]
        }
      ]
    },
    {
      "cell_type": "code",
      "source": [
        "data = \"\"\"Tesla has labor disputes in the United States, Germany and Sweden, including an ongoing strike\n",
        "in Sweden. Elon Musk, the CEO of Tesla, has expressed his opposition to unions on Twitter (now called X). The\n",
        "NLRB held that one tweet was an threat, but was overturned by a federal appeals court. All unionization efforts at the Tesla\n",
        "Fremont Factory and Gigafactory New York in the United States have been unsuccessful. In Germany, Gigafactory Berlin-Brandenburg\n",
        "and Tesla Automation have elected works councils, but they have not signed collective bargaining agreements with the\n",
        "German trade union IG Metall (members pictured).\n",
        "\"\"\"\n",
        "\n",
        "# index always starts from 0\n",
        "print(data.find('Tesla'))\n",
        "print(data.find('labor'))\n",
        "print(data.replace('Tesla', 'Volkswagen'))"
      ],
      "metadata": {
        "colab": {
          "base_uri": "https://localhost:8080/"
        },
        "id": "p9tQvxUegDHl",
        "outputId": "4de1cd7a-f25d-4083-cace-527e5af822ae"
      },
      "execution_count": null,
      "outputs": [
        {
          "output_type": "stream",
          "name": "stdout",
          "text": [
            "0\n",
            "10\n",
            "Volkswagen has labor disputes in the United States, Germany and Sweden, including an ongoing strike \n",
            "in Sweden. Elon Musk, the CEO of Volkswagen, has expressed his opposition to unions on Twitter (now called X). The \n",
            "NLRB held that one tweet was an threat, but was overturned by a federal appeals court. All unionization efforts at the Volkswagen \n",
            "Fremont Factory and Gigafactory New York in the United States have been unsuccessful. In Germany, Gigafactory Berlin-Brandenburg \n",
            "and Volkswagen Automation have elected works councils, but they have not signed collective bargaining agreements with the \n",
            "German trade union IG Metall (members pictured).\n",
            "\n"
          ]
        }
      ]
    },
    {
      "cell_type": "code",
      "source": [
        "names = 'Korede, Peter, Sharon'\n",
        "\n",
        "print(names.split(','))\n",
        "print('-'.join(names))"
      ],
      "metadata": {
        "colab": {
          "base_uri": "https://localhost:8080/"
        },
        "id": "vNBuqcGLumCM",
        "outputId": "438bc2f1-2cc1-4c83-d66a-4a17d5aea713"
      },
      "execution_count": null,
      "outputs": [
        {
          "output_type": "stream",
          "name": "stdout",
          "text": [
            "['Korede', ' Peter', ' Sharon']\n",
            "K-o-r-e-d-e-,- -P-e-t-e-r-,- -S-h-a-r-o-n\n"
          ]
        }
      ]
    },
    {
      "cell_type": "code",
      "source": [
        "names = 'Korede Peter Sharon'\n",
        "\n",
        "print(names.split(' '))\n",
        "print('-'.join(names))"
      ],
      "metadata": {
        "colab": {
          "base_uri": "https://localhost:8080/"
        },
        "id": "eZLfLoliZjhZ",
        "outputId": "e06c1e2f-67a8-454f-a4f9-9ddde69eae37"
      },
      "execution_count": null,
      "outputs": [
        {
          "output_type": "stream",
          "name": "stdout",
          "text": [
            "['Korede', 'Peter', 'Sharon']\n",
            "K-o-r-e-d-e- -P-e-t-e-r- -S-h-a-r-o-n\n"
          ]
        }
      ]
    },
    {
      "cell_type": "code",
      "source": [
        "names = ['Korede','Peter','Sharon']\n",
        "\n",
        "print('-'.join(names))"
      ],
      "metadata": {
        "colab": {
          "base_uri": "https://localhost:8080/"
        },
        "id": "2gA8O5Weff6r",
        "outputId": "8b21c2cd-61e4-4cf5-8868-d6da000213c9"
      },
      "execution_count": null,
      "outputs": [
        {
          "output_type": "stream",
          "name": "stdout",
          "text": [
            "Korede-Peter-Sharon\n"
          ]
        }
      ]
    },
    {
      "cell_type": "code",
      "source": [
        "data = 'This is sample data.'\n",
        "\n",
        "print(data.startswith('T'))\n",
        "print(data.startswith('I'))\n",
        "print(data.endswith('this'))\n",
        "print(data.endswith('.'))\n",
        "print(data.isdigit())"
      ],
      "metadata": {
        "colab": {
          "base_uri": "https://localhost:8080/"
        },
        "id": "oxY1127-1jC_",
        "outputId": "48bf6317-1a4c-46c8-c5f1-59c529a0aa06"
      },
      "execution_count": null,
      "outputs": [
        {
          "output_type": "stream",
          "name": "stdout",
          "text": [
            "True\n",
            "False\n",
            "False\n",
            "True\n",
            "False\n"
          ]
        }
      ]
    },
    {
      "cell_type": "code",
      "source": [
        "# Note that lists come in box bracket [], while tuple comes in parenthesis ().\n",
        "fruits = ['Apple', 'Banana', 'Cherry']\n",
        "print(fruits)\n",
        "\n",
        "fruits.append('Mango')    # This will add element in the list ('last')\n",
        "print(fruits)\n",
        "\n",
        "fruits.insert(1, 'Orange') # This will add element according to the index number\n",
        "print(fruits)\n",
        "\n",
        "fruits.remove('Banana')   # This will remove element in the list\n",
        "print(fruits)\n",
        "\n",
        "fruits.pop()            # This will remove the last element in the list\n",
        "print(fruits)\n",
        "\n",
        "fruits.sort()\n",
        "print(fruits)\n",
        "\n",
        "fruits.reverse()\n",
        "print(fruits)"
      ],
      "metadata": {
        "id": "SgYkCppt2jjK",
        "colab": {
          "base_uri": "https://localhost:8080/"
        },
        "outputId": "67aaeac9-363c-4533-c3a3-178c837dcbd5"
      },
      "execution_count": null,
      "outputs": [
        {
          "output_type": "stream",
          "name": "stdout",
          "text": [
            "['Apple', 'Banana', 'Cherry']\n",
            "['Apple', 'Banana', 'Cherry', 'Mango']\n",
            "['Apple', 'Orange', 'Banana', 'Cherry', 'Mango']\n",
            "['Apple', 'Orange', 'Cherry', 'Mango']\n",
            "['Apple', 'Orange', 'Cherry']\n",
            "['Apple', 'Cherry', 'Orange']\n",
            "['Orange', 'Cherry', 'Apple']\n"
          ]
        }
      ]
    },
    {
      "cell_type": "code",
      "source": [
        "# Tuple Methods\n",
        "# Note that tuple is not changeable - you cannot use append, insert or the rest like you use in lists\n",
        "# Therefore to use those variables, you must first convert tuple to list, then convert back to tuple\n",
        "# The only variables that you can use are 'count' and 'index'\n",
        "\n",
        "names = ('Korede', 'Lydia', 'Walter', 'Tope', 'Korede')\n",
        "\n",
        "print(names)\n",
        "print(names.count('Lydia'))\n",
        "print(names.index('Korede'))\n",
        "print(names.index('Walter'))\n",
        "\n",
        "# Convert Tuple into a List\n",
        "list_names = list(names)\n",
        "list_names.append('Tabitha')\n",
        "\n",
        "print(list_names)\n",
        "\n",
        "# Convert a List into Tuple\n",
        "\n",
        "tuple_names = tuple(list_names)\n",
        "print(tuple_names)\n",
        "\n",
        "# Accessing Tuple or List values\n",
        "print(names[1])\n",
        "print(names[3])"
      ],
      "metadata": {
        "colab": {
          "base_uri": "https://localhost:8080/"
        },
        "id": "EtPL_JKFBWcX",
        "outputId": "7ff8d490-2ec9-4a2b-ed61-0086f5cde818"
      },
      "execution_count": null,
      "outputs": [
        {
          "output_type": "stream",
          "name": "stdout",
          "text": [
            "('Korede', 'Lydia', 'Walter', 'Tope', 'Korede')\n",
            "1\n",
            "0\n",
            "2\n",
            "['Korede', 'Lydia', 'Walter', 'Tope', 'Korede', 'Tabitha']\n",
            "('Korede', 'Lydia', 'Walter', 'Tope', 'Korede', 'Tabitha')\n",
            "Lydia\n",
            "Tope\n"
          ]
        }
      ]
    },
    {
      "cell_type": "code",
      "source": [
        "names_1 = ['Korede', 'Lydia', 'Walter', 'Tope', 'Melody']\n",
        "\n",
        "print(names_1[0:3])\n",
        "print(names_1[0:2])\n",
        "print(names_1[4])\n",
        "print(names_1[-1])\n",
        "print(names_1[1:4])"
      ],
      "metadata": {
        "colab": {
          "base_uri": "https://localhost:8080/"
        },
        "id": "vMXWJXhuEcG5",
        "outputId": "e219ad56-06a3-4522-f08b-a30cad7610f9"
      },
      "execution_count": null,
      "outputs": [
        {
          "output_type": "stream",
          "name": "stdout",
          "text": [
            "['Korede', 'Lydia', 'Walter']\n",
            "['Korede', 'Lydia']\n",
            "Melody\n",
            "Melody\n",
            "['Lydia', 'Walter', 'Tope']\n"
          ]
        }
      ]
    },
    {
      "cell_type": "code",
      "source": [
        "# Note that dictionary comes in braces i.e. {curly bracket}\n",
        "dict_1 = {\n",
        "    'Name' : 'Korede',\n",
        "    'Age' : 44,\n",
        "    'isStudent' : True\n",
        "}\n",
        "\n",
        "print(dict_1)\n",
        "print(dict_1.keys())\n",
        "print(dict_1.values())\n",
        "print(dict_1['Name'])\n",
        "print(dict_1['Age'])\n",
        "print('My name is',dict_1['Name'], 'I am',dict_1['Age'], 'years old.')\n",
        "print('My name is',dict_1['Name'], 'Oluwadare.', 'I am',dict_1['Age'], 'years old.')\n",
        "\n",
        "print(dict_1.get('Name'))\n",
        "print(dict_1.items())"
      ],
      "metadata": {
        "colab": {
          "base_uri": "https://localhost:8080/"
        },
        "id": "x7D5gRjkGw_Q",
        "outputId": "23aac6ce-a71a-4645-b9e1-4b2d75d14127"
      },
      "execution_count": null,
      "outputs": [
        {
          "output_type": "stream",
          "name": "stdout",
          "text": [
            "{'Name': 'Korede', 'Age': 44, 'isStudent': True}\n",
            "dict_keys(['Name', 'Age', 'isStudent'])\n",
            "dict_values(['Korede', 44, True])\n",
            "Korede\n",
            "44\n",
            "My name is Korede I am 44 years old.\n",
            "My name is Korede Oluwadare. I am 44 years old.\n",
            "Korede\n",
            "dict_items([('Name', 'Korede'), ('Age', 44), ('isStudent', True)])\n"
          ]
        }
      ]
    },
    {
      "cell_type": "code",
      "source": [
        "# Update existing value in a dictionary\n",
        "\n",
        "dict_1['Age'] = '32'\n",
        "dict_1['isStudent'] = False\n",
        "\n",
        "print(dict_1)"
      ],
      "metadata": {
        "colab": {
          "base_uri": "https://localhost:8080/"
        },
        "id": "FjlD2p3hpyOB",
        "outputId": "f1093210-4437-40c9-fe1a-f39feacf889e"
      },
      "execution_count": null,
      "outputs": [
        {
          "output_type": "stream",
          "name": "stdout",
          "text": [
            "{'Name': 'Korede', 'Age': '32', 'isStudent': False}\n"
          ]
        }
      ]
    },
    {
      "cell_type": "code",
      "source": [
        "# Adding new key-value pair\n",
        "\n",
        "dict_1['grade'] = 'A+'\n",
        "\n",
        "print(dict_1)"
      ],
      "metadata": {
        "colab": {
          "base_uri": "https://localhost:8080/"
        },
        "id": "aa7LDLmHqV_4",
        "outputId": "0efa6393-11dc-44b5-d480-3e4f3f79f92c"
      },
      "execution_count": null,
      "outputs": [
        {
          "output_type": "stream",
          "name": "stdout",
          "text": [
            "{'Name': 'Korede', 'Age': '32', 'isStudent': False, 'grade': 'A+'}\n"
          ]
        }
      ]
    },
    {
      "cell_type": "code",
      "source": [
        "# Remove age from dictionary\n",
        "\n",
        "dict_1.pop('Age')\n",
        "\n",
        "print(dict_1)"
      ],
      "metadata": {
        "colab": {
          "base_uri": "https://localhost:8080/"
        },
        "id": "ow0fK5y5qzrv",
        "outputId": "e111ea46-bbcc-407a-ec20-0dcdb6d77f5a"
      },
      "execution_count": null,
      "outputs": [
        {
          "output_type": "stream",
          "name": "stdout",
          "text": [
            "{'Name': 'Korede', 'isStudent': False, 'grade': 'A+'}\n"
          ]
        }
      ]
    },
    {
      "cell_type": "code",
      "source": [
        "# Clear the dictionary\n",
        "\n",
        "dict_1.clear()\n",
        "\n",
        "print(dict_1)"
      ],
      "metadata": {
        "colab": {
          "base_uri": "https://localhost:8080/"
        },
        "id": "63DDN2INBE1Q",
        "outputId": "a02c727d-305a-4735-d3cd-520c509a9d33"
      },
      "execution_count": null,
      "outputs": [
        {
          "output_type": "stream",
          "name": "stdout",
          "text": [
            "{}\n"
          ]
        }
      ]
    },
    {
      "cell_type": "code",
      "source": [
        "# Conditional Statement (If statement executes a block of code once the condition is satisfied)\n",
        "\n",
        "age = 20\n",
        "if age >= 18:\n",
        "  print('You can vote.')\n",
        "\n",
        "signal = 'Red'\n",
        "if signal == 'Red':\n",
        "  print('Stop')\n",
        "\n",
        "\n",
        "signal = 'Green'\n",
        "if signal == 'Red':\n",
        "  print('Stop')\n",
        "else:\n",
        "  print('You can go')\n",
        "\n",
        "\n",
        "signal = 'Amber'\n",
        "if signal == 'Red':\n",
        "  print('Stop')\n",
        "elif signal == 'Green':\n",
        "  print('You can go')\n",
        "else:\n",
        "  print('Slow down your vehicle')"
      ],
      "metadata": {
        "colab": {
          "base_uri": "https://localhost:8080/"
        },
        "id": "LT0gvPPSMikR",
        "outputId": "d5a72f9f-168f-4c97-ed1f-35ea1de3fb40"
      },
      "execution_count": null,
      "outputs": [
        {
          "output_type": "stream",
          "name": "stdout",
          "text": [
            "You can vote.\n",
            "Stop\n",
            "You can go\n",
            "Slow down your vehicle\n"
          ]
        }
      ]
    },
    {
      "cell_type": "code",
      "source": [
        "# Loops\n",
        "\"\"\"\n",
        "To print numbers in a range without manually typing\n",
        "the individual digits or writing the program line by line.\n",
        "\"\"\"\n",
        "\n",
        "for r in range(11):\n",
        "  print(r)\n",
        "\n",
        "\"\"\"\n",
        "The difference between the code above and the code\n",
        "below is that the code above will begin from 0 to 10,\n",
        "while the code below will go from 1 to 10.\n",
        "\"\"\"\n",
        "for num in range(1, 11):\n",
        "  print(num)\n",
        "\n",
        "# Two Types of Loop - For Loop (which is the example above) and While Loop"
      ],
      "metadata": {
        "colab": {
          "base_uri": "https://localhost:8080/"
        },
        "id": "IrlHNOuRPA62",
        "outputId": "8f0e199c-e61c-4e75-feb5-1ebf4715a280"
      },
      "execution_count": null,
      "outputs": [
        {
          "output_type": "stream",
          "name": "stdout",
          "text": [
            "0\n",
            "1\n",
            "2\n",
            "3\n",
            "4\n",
            "5\n",
            "6\n",
            "7\n",
            "8\n",
            "9\n",
            "10\n",
            "1\n",
            "2\n",
            "3\n",
            "4\n",
            "5\n",
            "6\n",
            "7\n",
            "8\n",
            "9\n",
            "10\n"
          ]
        }
      ]
    },
    {
      "cell_type": "code",
      "source": [
        "# While Loop\n",
        "\n",
        "a = 1\n",
        "\n",
        "while a <= 10:\n",
        "  print(a)\n",
        "  a += 2"
      ],
      "metadata": {
        "colab": {
          "base_uri": "https://localhost:8080/"
        },
        "id": "yixQEVIbS5tr",
        "outputId": "6383a199-01fc-4689-e30c-0ccede18ff1c"
      },
      "execution_count": null,
      "outputs": [
        {
          "output_type": "stream",
          "name": "stdout",
          "text": [
            "1\n",
            "3\n",
            "5\n",
            "7\n",
            "9\n"
          ]
        }
      ]
    },
    {
      "cell_type": "code",
      "source": [
        "# Iterating over a list, tuple or string\n",
        "\n",
        "fruit_list = ['Apple', 'Banana', 'Cherry', 'Dates']\n",
        "fruit_tuple = ('Mango', 'Avocado', 'Grapes', 'Berry')\n",
        "fruit_str = 'Apple'\n",
        "\n",
        "for fruit in fruit_list:\n",
        "  print(fruit)\n",
        "\n",
        "for fruit in fruit_tuple:\n",
        "  print(fruit)\n",
        "\n",
        "for fruit in fruit_str:\n",
        "  print(fruit)"
      ],
      "metadata": {
        "colab": {
          "base_uri": "https://localhost:8080/"
        },
        "id": "Ix_DElx5U0gs",
        "outputId": "e96765f2-e86b-4f87-a7fe-573dffe08765"
      },
      "execution_count": null,
      "outputs": [
        {
          "output_type": "stream",
          "name": "stdout",
          "text": [
            "Apple\n",
            "Banana\n",
            "Cherry\n",
            "Dates\n",
            "Mango\n",
            "Avocado\n",
            "Grapes\n",
            "Berry\n",
            "A\n",
            "p\n",
            "p\n",
            "l\n",
            "e\n"
          ]
        }
      ]
    },
    {
      "cell_type": "code",
      "source": [
        "# Print numbers from 1 to 15 using For Loop\n",
        "\n",
        "for num in range(1, 16):\n",
        "  print(num)"
      ],
      "metadata": {
        "colab": {
          "base_uri": "https://localhost:8080/"
        },
        "id": "aMrsbt8fZJrM",
        "outputId": "9c82b1a3-48ec-4859-aa2c-24555e8833d2"
      },
      "execution_count": null,
      "outputs": [
        {
          "output_type": "stream",
          "name": "stdout",
          "text": [
            "1\n",
            "2\n",
            "3\n",
            "4\n",
            "5\n",
            "6\n",
            "7\n",
            "8\n",
            "9\n",
            "10\n",
            "11\n",
            "12\n",
            "13\n",
            "14\n",
            "15\n"
          ]
        }
      ]
    },
    {
      "cell_type": "code",
      "source": [
        "# Print even numbers 1 to 20 using For Loop\n",
        "\n",
        "for num in range(1, 21):\n",
        "  if num % 2 == 0:\n",
        "    print(num)"
      ],
      "metadata": {
        "colab": {
          "base_uri": "https://localhost:8080/"
        },
        "id": "YVA5PYI7W99L",
        "outputId": "ad0d9150-1e48-4fa2-d736-befa5fa7b149"
      },
      "execution_count": null,
      "outputs": [
        {
          "output_type": "stream",
          "name": "stdout",
          "text": [
            "2\n",
            "4\n",
            "6\n",
            "8\n",
            "10\n",
            "12\n",
            "14\n",
            "16\n",
            "18\n",
            "20\n"
          ]
        }
      ]
    },
    {
      "cell_type": "code",
      "source": [
        "# Print odd numbers from 1 to 20 using For Loop\n",
        "\n",
        "for num in range(1, 20):\n",
        "  if num % 2 == 1:\n",
        "    print(num)"
      ],
      "metadata": {
        "colab": {
          "base_uri": "https://localhost:8080/"
        },
        "id": "tPVzRSFyZEBc",
        "outputId": "5de059ea-6ad2-4908-b356-2ef77049c6d8"
      },
      "execution_count": null,
      "outputs": [
        {
          "output_type": "stream",
          "name": "stdout",
          "text": [
            "1\n",
            "3\n",
            "5\n",
            "7\n",
            "9\n",
            "11\n",
            "13\n",
            "15\n",
            "17\n",
            "19\n"
          ]
        }
      ]
    },
    {
      "cell_type": "code",
      "source": [
        "# Print numbers from 1 to 15 using While Loop\n",
        "\n",
        "a = 1\n",
        "while a <= 15:\n",
        "  print(a)\n",
        "  a += 1"
      ],
      "metadata": {
        "colab": {
          "base_uri": "https://localhost:8080/"
        },
        "id": "kabofx0UZ2Cr",
        "outputId": "6cc836c0-9202-457d-ea0e-c8e978a0ec42"
      },
      "execution_count": null,
      "outputs": [
        {
          "output_type": "stream",
          "name": "stdout",
          "text": [
            "1\n",
            "2\n",
            "3\n",
            "4\n",
            "5\n",
            "6\n",
            "7\n",
            "8\n",
            "9\n",
            "10\n",
            "11\n",
            "12\n",
            "13\n",
            "14\n",
            "15\n"
          ]
        }
      ]
    },
    {
      "cell_type": "code",
      "source": [
        "# Print even numbers from 1 to 20 using While Loop\n",
        "\n",
        "a = 2\n",
        "while a <= 20:\n",
        "  print(a)\n",
        "  a += 2"
      ],
      "metadata": {
        "colab": {
          "base_uri": "https://localhost:8080/"
        },
        "id": "m_Z257yCaXzn",
        "outputId": "2475c64f-8e33-40f2-c7b0-861f9d0c866b"
      },
      "execution_count": null,
      "outputs": [
        {
          "output_type": "stream",
          "name": "stdout",
          "text": [
            "2\n",
            "4\n",
            "6\n",
            "8\n",
            "10\n",
            "12\n",
            "14\n",
            "16\n",
            "18\n",
            "20\n"
          ]
        }
      ]
    },
    {
      "cell_type": "code",
      "source": [
        "# Print odd numbers from 1 to 20 using While Loop\n",
        "\n",
        "a = 1\n",
        "while a <= 20:\n",
        "  print(a)\n",
        "  a += 2"
      ],
      "metadata": {
        "colab": {
          "base_uri": "https://localhost:8080/"
        },
        "id": "4FnUG3Oxavrg",
        "outputId": "768b0de0-6fb9-4b92-8c68-621792edde08"
      },
      "execution_count": null,
      "outputs": [
        {
          "output_type": "stream",
          "name": "stdout",
          "text": [
            "1\n",
            "3\n",
            "5\n",
            "7\n",
            "9\n",
            "11\n",
            "13\n",
            "15\n",
            "17\n",
            "19\n"
          ]
        }
      ]
    },
    {
      "cell_type": "code",
      "source": [
        "# Functions\n",
        "\"\"\"\n",
        "Instead of writing the same formular every time,\n",
        "we use a function to define it once, then call it whenever needed.\n",
        "\"\"\"\n",
        "\n",
        "def greet():\n",
        "  print('Hello, welcome to Python')\n",
        "\n",
        "greet()\n",
        "greet()\n"
      ],
      "metadata": {
        "colab": {
          "base_uri": "https://localhost:8080/"
        },
        "id": "rDylKei-cHu-",
        "outputId": "d63fc36d-55ea-46fd-8d97-1da7467702a5"
      },
      "execution_count": null,
      "outputs": [
        {
          "output_type": "stream",
          "name": "stdout",
          "text": [
            "Hello, welcome to Python\n",
            "Hello, welcome to Python\n"
          ]
        }
      ]
    },
    {
      "cell_type": "code",
      "source": [
        "# Function with Parameter\n",
        "def greet_with_name(name):\n",
        "  print('Hello', name, 'welcome to Python')\n",
        "\n",
        "greet_with_name('Korede')\n",
        "greet_with_name('Tanya')\n",
        "\n",
        "def greet_with_name(name, lastname):\n",
        "  print('Hello', name, lastname, 'welcome to Python')\n",
        "\n",
        "greet_with_name('Korede','Oluwadare')\n",
        "greet_with_name('Tanya', 'Roberts')"
      ],
      "metadata": {
        "colab": {
          "base_uri": "https://localhost:8080/"
        },
        "id": "lvsD1y5seP2o",
        "outputId": "225c7469-eb0b-4a99-c1c5-173977dec753"
      },
      "execution_count": null,
      "outputs": [
        {
          "output_type": "stream",
          "name": "stdout",
          "text": [
            "Hello Korede welcome to Python\n",
            "Hello Tanya welcome to Python\n",
            "Hello Korede Oluwadare welcome to Python\n",
            "Hello Tanya Roberts welcome to Python\n"
          ]
        }
      ]
    },
    {
      "cell_type": "code",
      "source": [
        "# Function with Default Parameter\n",
        "def greet_with_name(name):\n",
        "  print('Hello', name, 'welcome to Python')\n",
        "\n",
        "greet_with_name('Korede')\n",
        "greet_with_name('Tanya')\n",
        "\n",
        "def greet_with_name(name, lastname = 'No Lastname'):\n",
        "  print('Hello', name, lastname, 'welcome to Python')\n",
        "\n",
        "greet_with_name('Korede','Oluwadare')\n",
        "greet_with_name('Tanya')"
      ],
      "metadata": {
        "id": "lB2mrMKGfjLj",
        "colab": {
          "base_uri": "https://localhost:8080/"
        },
        "outputId": "be866c16-f76e-4b9c-c7f4-a299cf6446c0"
      },
      "execution_count": null,
      "outputs": [
        {
          "output_type": "stream",
          "name": "stdout",
          "text": [
            "Hello Korede welcome to Python\n",
            "Hello Tanya welcome to Python\n",
            "Hello Korede Oluwadare welcome to Python\n",
            "Hello Tanya No Lastname welcome to Python\n"
          ]
        }
      ]
    },
    {
      "cell_type": "code",
      "source": [
        "def calculate(a, b):\n",
        "  return a + b\n",
        "\n",
        "calculate(3, 5)\n",
        "calculate(30, 50)"
      ],
      "metadata": {
        "colab": {
          "base_uri": "https://localhost:8080/"
        },
        "id": "EIRaPmdF3E49",
        "outputId": "b94757b0-5e71-41bf-b4e9-5d74ea4d46c5"
      },
      "execution_count": null,
      "outputs": [
        {
          "output_type": "execute_result",
          "data": {
            "text/plain": [
              "80"
            ]
          },
          "metadata": {},
          "execution_count": 2
        }
      ]
    },
    {
      "cell_type": "code",
      "source": [
        "# Calculate Square\n",
        "\n",
        "def square(num):\n",
        "  return num * num\n",
        "\n",
        "result = square(5)\n",
        "print (result)"
      ],
      "metadata": {
        "colab": {
          "base_uri": "https://localhost:8080/"
        },
        "id": "iGbaY2ZK4AZC",
        "outputId": "0052f4ac-5b68-4ef4-a6ab-6538e8deaa26"
      },
      "execution_count": null,
      "outputs": [
        {
          "output_type": "stream",
          "name": "stdout",
          "text": [
            "25\n"
          ]
        }
      ]
    },
    {
      "cell_type": "code",
      "source": [
        "# Calculate Cube\n",
        "\n",
        "def cube(num):\n",
        "  return num * num * num\n",
        "\n",
        "result = cube(10)\n",
        "print(result)"
      ],
      "metadata": {
        "colab": {
          "base_uri": "https://localhost:8080/"
        },
        "id": "rjIk-3Vh46si",
        "outputId": "dbf78557-af9a-433b-e75c-50cc2cd160cb"
      },
      "execution_count": null,
      "outputs": [
        {
          "output_type": "stream",
          "name": "stdout",
          "text": [
            "1000\n"
          ]
        }
      ]
    },
    {
      "cell_type": "code",
      "source": [
        "def format_name():\n",
        "    # Taking user's full name as input\n",
        "    full_name = input(\"Enter your full name: \")\n",
        "\n",
        "    # Remove extra spaces, capitalize first letter of each word and replace space with hyphen\n",
        "    formatted_name = '-'.join(word.capitalize() for word in full_name.split())\n",
        "\n",
        "    return formatted_name\n",
        "\n",
        "# Call the function and display the result\n",
        "formatted_name = format_name()\n",
        "print(f\"Formatted name: {formatted_name}\")\n"
      ],
      "metadata": {
        "colab": {
          "base_uri": "https://localhost:8080/"
        },
        "id": "CngSUj4Pr9r9",
        "outputId": "4fea9275-aa67-4bbf-abdb-9ca26ec86017"
      },
      "execution_count": null,
      "outputs": [
        {
          "output_type": "stream",
          "name": "stdout",
          "text": [
            "Enter your full name: Korede Oluwadare\n",
            "Formatted name: Korede-Oluwadare\n"
          ]
        }
      ]
    },
    {
      "cell_type": "code",
      "source": [
        "def format_name(full_name):\n",
        "    names = full_name.strip().split()\n",
        "    formatted_name = '-'.join(word.title() for word in names)\n",
        "    return formatted_name\n",
        "\n",
        "full_name = input('Enter your full name: ')\n",
        "print('Formatted Name:', format_name(full_name))"
      ],
      "metadata": {
        "colab": {
          "base_uri": "https://localhost:8080/"
        },
        "id": "KKM56cUI9DO5",
        "outputId": "9f9d0f9d-d247-4aaf-db91-58f669d93308"
      },
      "execution_count": null,
      "outputs": [
        {
          "output_type": "stream",
          "name": "stdout",
          "text": [
            "Enter your full name: korede oluwadare\n",
            "Formatted Name: Korede-Oluwadare\n"
          ]
        }
      ]
    },
    {
      "cell_type": "code",
      "source": [
        "def format_name(full_name):\n",
        "    # Remove extra spaces, capitalize first letter of each word and replace space with hyphen\n",
        "    formatted_name = '-'.join(word.title() for word in full_name.strip().split())\n",
        "    return formatted_name\n",
        "\n",
        "full_name = input('Enter your full name: ')\n",
        "print('Formatted Name:', format_name(full_name))"
      ],
      "metadata": {
        "colab": {
          "base_uri": "https://localhost:8080/"
        },
        "id": "wkY8CeIGDo7k",
        "outputId": "3d95f417-4a6a-4e22-d11a-06e85b9ad1a0"
      },
      "execution_count": null,
      "outputs": [
        {
          "output_type": "stream",
          "name": "stdout",
          "text": [
            "Enter your full name:      korede   oluwadare     \n",
            "Formatted Name: Korede-Oluwadare\n"
          ]
        }
      ]
    },
    {
      "cell_type": "code",
      "source": [
        "import pandas as pd"
      ],
      "metadata": {
        "id": "buoGRCGSLZPq"
      },
      "execution_count": 17,
      "outputs": []
    },
    {
      "cell_type": "code",
      "source": [
        "df = pd.read_csv(\"GlobalWeatherRepository.csv\")\n",
        "df"
      ],
      "metadata": {
        "colab": {
          "base_uri": "https://localhost:8080/",
          "height": 635
        },
        "collapsed": true,
        "id": "si8QzRu8QuNk",
        "outputId": "f3896b74-e1bb-4610-b585-a3a0186eb125"
      },
      "execution_count": 24,
      "outputs": [
        {
          "output_type": "execute_result",
          "data": {
            "text/plain": [
              "          country     location_name  latitude  longitude          timezone  \\\n",
              "0     Afghanistan             Kabul     34.52      69.18        Asia/Kabul   \n",
              "1         Albania            Tirana     41.33      19.82     Europe/Tirane   \n",
              "2         Algeria           Algiers     36.76       3.05    Africa/Algiers   \n",
              "3         Andorra  Andorra La Vella     42.50       1.52    Europe/Andorra   \n",
              "4          Angola            Luanda     -8.84      13.23     Africa/Luanda   \n",
              "...           ...               ...       ...        ...               ...   \n",
              "8148    Australia          Canberra    -35.28     149.22  Australia/Sydney   \n",
              "8149      Austria            Vienna     48.20      16.37     Europe/Vienna   \n",
              "8150   Azerbaijan              Baku     40.40      49.88         Asia/Baku   \n",
              "8151      Bahamas            Nassau     25.08     -77.35    America/Nassau   \n",
              "8152      Bahrain            Manama     26.24      50.58      Asia/Bahrain   \n",
              "\n",
              "      last_updated_epoch      last_updated  temperature_celsius  \\\n",
              "0             1715849100  2024-05-16 13:15                 26.6   \n",
              "1             1715849100  2024-05-16 10:45                 19.0   \n",
              "2             1715849100  2024-05-16 09:45                 23.0   \n",
              "3             1715849100  2024-05-16 10:45                  6.3   \n",
              "4             1715849100  2024-05-16 09:45                 26.0   \n",
              "...                  ...               ...                  ...   \n",
              "8148          1719408600  2024-06-26 23:30                  4.1   \n",
              "8149          1719408600  2024-06-26 15:30                 28.3   \n",
              "8150          1719408600  2024-06-26 17:30                 26.3   \n",
              "8151          1719408600  2024-06-26 09:30                 29.2   \n",
              "8152          1719408600  2024-06-26 16:30                 40.4   \n",
              "\n",
              "      temperature_fahrenheit condition_text  ...  air_quality_PM2.5  \\\n",
              "0                       79.8  Partly Cloudy  ...                8.4   \n",
              "1                       66.2  Partly cloudy  ...                1.1   \n",
              "2                       73.4          Sunny  ...               10.4   \n",
              "3                       43.3  Light drizzle  ...                0.7   \n",
              "4                       78.8  Partly cloudy  ...              183.4   \n",
              "...                      ...            ...  ...                ...   \n",
              "8148                    39.4          Clear  ...                4.1   \n",
              "8149                    82.9  Partly cloudy  ...                3.5   \n",
              "8150                    79.3  Partly cloudy  ...                2.5   \n",
              "8151                    84.6  Partly cloudy  ...                1.1   \n",
              "8152                   104.7          Sunny  ...                NaN   \n",
              "\n",
              "      air_quality_PM10  air_quality_us-epa-index air_quality_gb-defra-index  \\\n",
              "0                 26.6                       1.0                        1.0   \n",
              "1                  2.0                       1.0                        1.0   \n",
              "2                 18.4                       1.0                        1.0   \n",
              "3                  0.9                       1.0                        1.0   \n",
              "4                262.3                       5.0                       10.0   \n",
              "...                ...                       ...                        ...   \n",
              "8148              12.1                       1.0                        1.0   \n",
              "8149               3.9                       1.0                        1.0   \n",
              "8150               2.9                       1.0                        1.0   \n",
              "8151               1.9                       1.0                        1.0   \n",
              "8152               NaN                       NaN                        NaN   \n",
              "\n",
              "       sunrise    sunset     moonrise   moonset      moon_phase  \\\n",
              "0     04:50 AM  06:50 PM     12:12 PM  01:11 AM  Waxing Gibbous   \n",
              "1     05:21 AM  07:54 PM     12:58 PM  02:14 AM  Waxing Gibbous   \n",
              "2     05:40 AM  07:50 PM     01:15 PM  02:14 AM  Waxing Gibbous   \n",
              "3     06:31 AM  09:11 PM     02:12 PM  03:31 AM  Waxing Gibbous   \n",
              "4     06:12 AM  05:55 PM     01:17 PM  12:38 AM  Waxing Gibbous   \n",
              "...        ...       ...          ...       ...             ...   \n",
              "8148  07:13 AM  05:00 PM     09:30 PM  10:31 AM  Waning Gibbous   \n",
              "8149  04:56 AM  08:59 PM  No moonrise  09:45 AM  Waning Gibbous   \n",
              "8150  05:12 AM  08:15 PM     11:41 PM  09:41 AM  Waning Gibbous   \n",
              "8151  06:21 AM  08:03 PM  No moonrise  10:57 AM  Waning Gibbous   \n",
              "8152       NaN       NaN          NaN       NaN             NaN   \n",
              "\n",
              "      moon_illumination  \n",
              "0                  55.0  \n",
              "1                  55.0  \n",
              "2                  55.0  \n",
              "3                  55.0  \n",
              "4                  55.0  \n",
              "...                 ...  \n",
              "8148               81.0  \n",
              "8149               81.0  \n",
              "8150               81.0  \n",
              "8151               81.0  \n",
              "8152                NaN  \n",
              "\n",
              "[8153 rows x 41 columns]"
            ],
            "text/html": [
              "\n",
              "  <div id=\"df-de0e4996-1fe8-412a-84df-aeafffb75de7\" class=\"colab-df-container\">\n",
              "    <div>\n",
              "<style scoped>\n",
              "    .dataframe tbody tr th:only-of-type {\n",
              "        vertical-align: middle;\n",
              "    }\n",
              "\n",
              "    .dataframe tbody tr th {\n",
              "        vertical-align: top;\n",
              "    }\n",
              "\n",
              "    .dataframe thead th {\n",
              "        text-align: right;\n",
              "    }\n",
              "</style>\n",
              "<table border=\"1\" class=\"dataframe\">\n",
              "  <thead>\n",
              "    <tr style=\"text-align: right;\">\n",
              "      <th></th>\n",
              "      <th>country</th>\n",
              "      <th>location_name</th>\n",
              "      <th>latitude</th>\n",
              "      <th>longitude</th>\n",
              "      <th>timezone</th>\n",
              "      <th>last_updated_epoch</th>\n",
              "      <th>last_updated</th>\n",
              "      <th>temperature_celsius</th>\n",
              "      <th>temperature_fahrenheit</th>\n",
              "      <th>condition_text</th>\n",
              "      <th>...</th>\n",
              "      <th>air_quality_PM2.5</th>\n",
              "      <th>air_quality_PM10</th>\n",
              "      <th>air_quality_us-epa-index</th>\n",
              "      <th>air_quality_gb-defra-index</th>\n",
              "      <th>sunrise</th>\n",
              "      <th>sunset</th>\n",
              "      <th>moonrise</th>\n",
              "      <th>moonset</th>\n",
              "      <th>moon_phase</th>\n",
              "      <th>moon_illumination</th>\n",
              "    </tr>\n",
              "  </thead>\n",
              "  <tbody>\n",
              "    <tr>\n",
              "      <th>0</th>\n",
              "      <td>Afghanistan</td>\n",
              "      <td>Kabul</td>\n",
              "      <td>34.52</td>\n",
              "      <td>69.18</td>\n",
              "      <td>Asia/Kabul</td>\n",
              "      <td>1715849100</td>\n",
              "      <td>2024-05-16 13:15</td>\n",
              "      <td>26.6</td>\n",
              "      <td>79.8</td>\n",
              "      <td>Partly Cloudy</td>\n",
              "      <td>...</td>\n",
              "      <td>8.4</td>\n",
              "      <td>26.6</td>\n",
              "      <td>1.0</td>\n",
              "      <td>1.0</td>\n",
              "      <td>04:50 AM</td>\n",
              "      <td>06:50 PM</td>\n",
              "      <td>12:12 PM</td>\n",
              "      <td>01:11 AM</td>\n",
              "      <td>Waxing Gibbous</td>\n",
              "      <td>55.0</td>\n",
              "    </tr>\n",
              "    <tr>\n",
              "      <th>1</th>\n",
              "      <td>Albania</td>\n",
              "      <td>Tirana</td>\n",
              "      <td>41.33</td>\n",
              "      <td>19.82</td>\n",
              "      <td>Europe/Tirane</td>\n",
              "      <td>1715849100</td>\n",
              "      <td>2024-05-16 10:45</td>\n",
              "      <td>19.0</td>\n",
              "      <td>66.2</td>\n",
              "      <td>Partly cloudy</td>\n",
              "      <td>...</td>\n",
              "      <td>1.1</td>\n",
              "      <td>2.0</td>\n",
              "      <td>1.0</td>\n",
              "      <td>1.0</td>\n",
              "      <td>05:21 AM</td>\n",
              "      <td>07:54 PM</td>\n",
              "      <td>12:58 PM</td>\n",
              "      <td>02:14 AM</td>\n",
              "      <td>Waxing Gibbous</td>\n",
              "      <td>55.0</td>\n",
              "    </tr>\n",
              "    <tr>\n",
              "      <th>2</th>\n",
              "      <td>Algeria</td>\n",
              "      <td>Algiers</td>\n",
              "      <td>36.76</td>\n",
              "      <td>3.05</td>\n",
              "      <td>Africa/Algiers</td>\n",
              "      <td>1715849100</td>\n",
              "      <td>2024-05-16 09:45</td>\n",
              "      <td>23.0</td>\n",
              "      <td>73.4</td>\n",
              "      <td>Sunny</td>\n",
              "      <td>...</td>\n",
              "      <td>10.4</td>\n",
              "      <td>18.4</td>\n",
              "      <td>1.0</td>\n",
              "      <td>1.0</td>\n",
              "      <td>05:40 AM</td>\n",
              "      <td>07:50 PM</td>\n",
              "      <td>01:15 PM</td>\n",
              "      <td>02:14 AM</td>\n",
              "      <td>Waxing Gibbous</td>\n",
              "      <td>55.0</td>\n",
              "    </tr>\n",
              "    <tr>\n",
              "      <th>3</th>\n",
              "      <td>Andorra</td>\n",
              "      <td>Andorra La Vella</td>\n",
              "      <td>42.50</td>\n",
              "      <td>1.52</td>\n",
              "      <td>Europe/Andorra</td>\n",
              "      <td>1715849100</td>\n",
              "      <td>2024-05-16 10:45</td>\n",
              "      <td>6.3</td>\n",
              "      <td>43.3</td>\n",
              "      <td>Light drizzle</td>\n",
              "      <td>...</td>\n",
              "      <td>0.7</td>\n",
              "      <td>0.9</td>\n",
              "      <td>1.0</td>\n",
              "      <td>1.0</td>\n",
              "      <td>06:31 AM</td>\n",
              "      <td>09:11 PM</td>\n",
              "      <td>02:12 PM</td>\n",
              "      <td>03:31 AM</td>\n",
              "      <td>Waxing Gibbous</td>\n",
              "      <td>55.0</td>\n",
              "    </tr>\n",
              "    <tr>\n",
              "      <th>4</th>\n",
              "      <td>Angola</td>\n",
              "      <td>Luanda</td>\n",
              "      <td>-8.84</td>\n",
              "      <td>13.23</td>\n",
              "      <td>Africa/Luanda</td>\n",
              "      <td>1715849100</td>\n",
              "      <td>2024-05-16 09:45</td>\n",
              "      <td>26.0</td>\n",
              "      <td>78.8</td>\n",
              "      <td>Partly cloudy</td>\n",
              "      <td>...</td>\n",
              "      <td>183.4</td>\n",
              "      <td>262.3</td>\n",
              "      <td>5.0</td>\n",
              "      <td>10.0</td>\n",
              "      <td>06:12 AM</td>\n",
              "      <td>05:55 PM</td>\n",
              "      <td>01:17 PM</td>\n",
              "      <td>12:38 AM</td>\n",
              "      <td>Waxing Gibbous</td>\n",
              "      <td>55.0</td>\n",
              "    </tr>\n",
              "    <tr>\n",
              "      <th>...</th>\n",
              "      <td>...</td>\n",
              "      <td>...</td>\n",
              "      <td>...</td>\n",
              "      <td>...</td>\n",
              "      <td>...</td>\n",
              "      <td>...</td>\n",
              "      <td>...</td>\n",
              "      <td>...</td>\n",
              "      <td>...</td>\n",
              "      <td>...</td>\n",
              "      <td>...</td>\n",
              "      <td>...</td>\n",
              "      <td>...</td>\n",
              "      <td>...</td>\n",
              "      <td>...</td>\n",
              "      <td>...</td>\n",
              "      <td>...</td>\n",
              "      <td>...</td>\n",
              "      <td>...</td>\n",
              "      <td>...</td>\n",
              "      <td>...</td>\n",
              "    </tr>\n",
              "    <tr>\n",
              "      <th>8148</th>\n",
              "      <td>Australia</td>\n",
              "      <td>Canberra</td>\n",
              "      <td>-35.28</td>\n",
              "      <td>149.22</td>\n",
              "      <td>Australia/Sydney</td>\n",
              "      <td>1719408600</td>\n",
              "      <td>2024-06-26 23:30</td>\n",
              "      <td>4.1</td>\n",
              "      <td>39.4</td>\n",
              "      <td>Clear</td>\n",
              "      <td>...</td>\n",
              "      <td>4.1</td>\n",
              "      <td>12.1</td>\n",
              "      <td>1.0</td>\n",
              "      <td>1.0</td>\n",
              "      <td>07:13 AM</td>\n",
              "      <td>05:00 PM</td>\n",
              "      <td>09:30 PM</td>\n",
              "      <td>10:31 AM</td>\n",
              "      <td>Waning Gibbous</td>\n",
              "      <td>81.0</td>\n",
              "    </tr>\n",
              "    <tr>\n",
              "      <th>8149</th>\n",
              "      <td>Austria</td>\n",
              "      <td>Vienna</td>\n",
              "      <td>48.20</td>\n",
              "      <td>16.37</td>\n",
              "      <td>Europe/Vienna</td>\n",
              "      <td>1719408600</td>\n",
              "      <td>2024-06-26 15:30</td>\n",
              "      <td>28.3</td>\n",
              "      <td>82.9</td>\n",
              "      <td>Partly cloudy</td>\n",
              "      <td>...</td>\n",
              "      <td>3.5</td>\n",
              "      <td>3.9</td>\n",
              "      <td>1.0</td>\n",
              "      <td>1.0</td>\n",
              "      <td>04:56 AM</td>\n",
              "      <td>08:59 PM</td>\n",
              "      <td>No moonrise</td>\n",
              "      <td>09:45 AM</td>\n",
              "      <td>Waning Gibbous</td>\n",
              "      <td>81.0</td>\n",
              "    </tr>\n",
              "    <tr>\n",
              "      <th>8150</th>\n",
              "      <td>Azerbaijan</td>\n",
              "      <td>Baku</td>\n",
              "      <td>40.40</td>\n",
              "      <td>49.88</td>\n",
              "      <td>Asia/Baku</td>\n",
              "      <td>1719408600</td>\n",
              "      <td>2024-06-26 17:30</td>\n",
              "      <td>26.3</td>\n",
              "      <td>79.3</td>\n",
              "      <td>Partly cloudy</td>\n",
              "      <td>...</td>\n",
              "      <td>2.5</td>\n",
              "      <td>2.9</td>\n",
              "      <td>1.0</td>\n",
              "      <td>1.0</td>\n",
              "      <td>05:12 AM</td>\n",
              "      <td>08:15 PM</td>\n",
              "      <td>11:41 PM</td>\n",
              "      <td>09:41 AM</td>\n",
              "      <td>Waning Gibbous</td>\n",
              "      <td>81.0</td>\n",
              "    </tr>\n",
              "    <tr>\n",
              "      <th>8151</th>\n",
              "      <td>Bahamas</td>\n",
              "      <td>Nassau</td>\n",
              "      <td>25.08</td>\n",
              "      <td>-77.35</td>\n",
              "      <td>America/Nassau</td>\n",
              "      <td>1719408600</td>\n",
              "      <td>2024-06-26 09:30</td>\n",
              "      <td>29.2</td>\n",
              "      <td>84.6</td>\n",
              "      <td>Partly cloudy</td>\n",
              "      <td>...</td>\n",
              "      <td>1.1</td>\n",
              "      <td>1.9</td>\n",
              "      <td>1.0</td>\n",
              "      <td>1.0</td>\n",
              "      <td>06:21 AM</td>\n",
              "      <td>08:03 PM</td>\n",
              "      <td>No moonrise</td>\n",
              "      <td>10:57 AM</td>\n",
              "      <td>Waning Gibbous</td>\n",
              "      <td>81.0</td>\n",
              "    </tr>\n",
              "    <tr>\n",
              "      <th>8152</th>\n",
              "      <td>Bahrain</td>\n",
              "      <td>Manama</td>\n",
              "      <td>26.24</td>\n",
              "      <td>50.58</td>\n",
              "      <td>Asia/Bahrain</td>\n",
              "      <td>1719408600</td>\n",
              "      <td>2024-06-26 16:30</td>\n",
              "      <td>40.4</td>\n",
              "      <td>104.7</td>\n",
              "      <td>Sunny</td>\n",
              "      <td>...</td>\n",
              "      <td>NaN</td>\n",
              "      <td>NaN</td>\n",
              "      <td>NaN</td>\n",
              "      <td>NaN</td>\n",
              "      <td>NaN</td>\n",
              "      <td>NaN</td>\n",
              "      <td>NaN</td>\n",
              "      <td>NaN</td>\n",
              "      <td>NaN</td>\n",
              "      <td>NaN</td>\n",
              "    </tr>\n",
              "  </tbody>\n",
              "</table>\n",
              "<p>8153 rows × 41 columns</p>\n",
              "</div>\n",
              "    <div class=\"colab-df-buttons\">\n",
              "\n",
              "  <div class=\"colab-df-container\">\n",
              "    <button class=\"colab-df-convert\" onclick=\"convertToInteractive('df-de0e4996-1fe8-412a-84df-aeafffb75de7')\"\n",
              "            title=\"Convert this dataframe to an interactive table.\"\n",
              "            style=\"display:none;\">\n",
              "\n",
              "  <svg xmlns=\"http://www.w3.org/2000/svg\" height=\"24px\" viewBox=\"0 -960 960 960\">\n",
              "    <path d=\"M120-120v-720h720v720H120Zm60-500h600v-160H180v160Zm220 220h160v-160H400v160Zm0 220h160v-160H400v160ZM180-400h160v-160H180v160Zm440 0h160v-160H620v160ZM180-180h160v-160H180v160Zm440 0h160v-160H620v160Z\"/>\n",
              "  </svg>\n",
              "    </button>\n",
              "\n",
              "  <style>\n",
              "    .colab-df-container {\n",
              "      display:flex;\n",
              "      gap: 12px;\n",
              "    }\n",
              "\n",
              "    .colab-df-convert {\n",
              "      background-color: #E8F0FE;\n",
              "      border: none;\n",
              "      border-radius: 50%;\n",
              "      cursor: pointer;\n",
              "      display: none;\n",
              "      fill: #1967D2;\n",
              "      height: 32px;\n",
              "      padding: 0 0 0 0;\n",
              "      width: 32px;\n",
              "    }\n",
              "\n",
              "    .colab-df-convert:hover {\n",
              "      background-color: #E2EBFA;\n",
              "      box-shadow: 0px 1px 2px rgba(60, 64, 67, 0.3), 0px 1px 3px 1px rgba(60, 64, 67, 0.15);\n",
              "      fill: #174EA6;\n",
              "    }\n",
              "\n",
              "    .colab-df-buttons div {\n",
              "      margin-bottom: 4px;\n",
              "    }\n",
              "\n",
              "    [theme=dark] .colab-df-convert {\n",
              "      background-color: #3B4455;\n",
              "      fill: #D2E3FC;\n",
              "    }\n",
              "\n",
              "    [theme=dark] .colab-df-convert:hover {\n",
              "      background-color: #434B5C;\n",
              "      box-shadow: 0px 1px 3px 1px rgba(0, 0, 0, 0.15);\n",
              "      filter: drop-shadow(0px 1px 2px rgba(0, 0, 0, 0.3));\n",
              "      fill: #FFFFFF;\n",
              "    }\n",
              "  </style>\n",
              "\n",
              "    <script>\n",
              "      const buttonEl =\n",
              "        document.querySelector('#df-de0e4996-1fe8-412a-84df-aeafffb75de7 button.colab-df-convert');\n",
              "      buttonEl.style.display =\n",
              "        google.colab.kernel.accessAllowed ? 'block' : 'none';\n",
              "\n",
              "      async function convertToInteractive(key) {\n",
              "        const element = document.querySelector('#df-de0e4996-1fe8-412a-84df-aeafffb75de7');\n",
              "        const dataTable =\n",
              "          await google.colab.kernel.invokeFunction('convertToInteractive',\n",
              "                                                    [key], {});\n",
              "        if (!dataTable) return;\n",
              "\n",
              "        const docLinkHtml = 'Like what you see? Visit the ' +\n",
              "          '<a target=\"_blank\" href=https://colab.research.google.com/notebooks/data_table.ipynb>data table notebook</a>'\n",
              "          + ' to learn more about interactive tables.';\n",
              "        element.innerHTML = '';\n",
              "        dataTable['output_type'] = 'display_data';\n",
              "        await google.colab.output.renderOutput(dataTable, element);\n",
              "        const docLink = document.createElement('div');\n",
              "        docLink.innerHTML = docLinkHtml;\n",
              "        element.appendChild(docLink);\n",
              "      }\n",
              "    </script>\n",
              "  </div>\n",
              "\n",
              "\n",
              "<div id=\"df-84e07bf1-e84b-45d1-bd6a-0ebbce3c6207\">\n",
              "  <button class=\"colab-df-quickchart\" onclick=\"quickchart('df-84e07bf1-e84b-45d1-bd6a-0ebbce3c6207')\"\n",
              "            title=\"Suggest charts\"\n",
              "            style=\"display:none;\">\n",
              "\n",
              "<svg xmlns=\"http://www.w3.org/2000/svg\" height=\"24px\"viewBox=\"0 0 24 24\"\n",
              "     width=\"24px\">\n",
              "    <g>\n",
              "        <path d=\"M19 3H5c-1.1 0-2 .9-2 2v14c0 1.1.9 2 2 2h14c1.1 0 2-.9 2-2V5c0-1.1-.9-2-2-2zM9 17H7v-7h2v7zm4 0h-2V7h2v10zm4 0h-2v-4h2v4z\"/>\n",
              "    </g>\n",
              "</svg>\n",
              "  </button>\n",
              "\n",
              "<style>\n",
              "  .colab-df-quickchart {\n",
              "      --bg-color: #E8F0FE;\n",
              "      --fill-color: #1967D2;\n",
              "      --hover-bg-color: #E2EBFA;\n",
              "      --hover-fill-color: #174EA6;\n",
              "      --disabled-fill-color: #AAA;\n",
              "      --disabled-bg-color: #DDD;\n",
              "  }\n",
              "\n",
              "  [theme=dark] .colab-df-quickchart {\n",
              "      --bg-color: #3B4455;\n",
              "      --fill-color: #D2E3FC;\n",
              "      --hover-bg-color: #434B5C;\n",
              "      --hover-fill-color: #FFFFFF;\n",
              "      --disabled-bg-color: #3B4455;\n",
              "      --disabled-fill-color: #666;\n",
              "  }\n",
              "\n",
              "  .colab-df-quickchart {\n",
              "    background-color: var(--bg-color);\n",
              "    border: none;\n",
              "    border-radius: 50%;\n",
              "    cursor: pointer;\n",
              "    display: none;\n",
              "    fill: var(--fill-color);\n",
              "    height: 32px;\n",
              "    padding: 0;\n",
              "    width: 32px;\n",
              "  }\n",
              "\n",
              "  .colab-df-quickchart:hover {\n",
              "    background-color: var(--hover-bg-color);\n",
              "    box-shadow: 0 1px 2px rgba(60, 64, 67, 0.3), 0 1px 3px 1px rgba(60, 64, 67, 0.15);\n",
              "    fill: var(--button-hover-fill-color);\n",
              "  }\n",
              "\n",
              "  .colab-df-quickchart-complete:disabled,\n",
              "  .colab-df-quickchart-complete:disabled:hover {\n",
              "    background-color: var(--disabled-bg-color);\n",
              "    fill: var(--disabled-fill-color);\n",
              "    box-shadow: none;\n",
              "  }\n",
              "\n",
              "  .colab-df-spinner {\n",
              "    border: 2px solid var(--fill-color);\n",
              "    border-color: transparent;\n",
              "    border-bottom-color: var(--fill-color);\n",
              "    animation:\n",
              "      spin 1s steps(1) infinite;\n",
              "  }\n",
              "\n",
              "  @keyframes spin {\n",
              "    0% {\n",
              "      border-color: transparent;\n",
              "      border-bottom-color: var(--fill-color);\n",
              "      border-left-color: var(--fill-color);\n",
              "    }\n",
              "    20% {\n",
              "      border-color: transparent;\n",
              "      border-left-color: var(--fill-color);\n",
              "      border-top-color: var(--fill-color);\n",
              "    }\n",
              "    30% {\n",
              "      border-color: transparent;\n",
              "      border-left-color: var(--fill-color);\n",
              "      border-top-color: var(--fill-color);\n",
              "      border-right-color: var(--fill-color);\n",
              "    }\n",
              "    40% {\n",
              "      border-color: transparent;\n",
              "      border-right-color: var(--fill-color);\n",
              "      border-top-color: var(--fill-color);\n",
              "    }\n",
              "    60% {\n",
              "      border-color: transparent;\n",
              "      border-right-color: var(--fill-color);\n",
              "    }\n",
              "    80% {\n",
              "      border-color: transparent;\n",
              "      border-right-color: var(--fill-color);\n",
              "      border-bottom-color: var(--fill-color);\n",
              "    }\n",
              "    90% {\n",
              "      border-color: transparent;\n",
              "      border-bottom-color: var(--fill-color);\n",
              "    }\n",
              "  }\n",
              "</style>\n",
              "\n",
              "  <script>\n",
              "    async function quickchart(key) {\n",
              "      const quickchartButtonEl =\n",
              "        document.querySelector('#' + key + ' button');\n",
              "      quickchartButtonEl.disabled = true;  // To prevent multiple clicks.\n",
              "      quickchartButtonEl.classList.add('colab-df-spinner');\n",
              "      try {\n",
              "        const charts = await google.colab.kernel.invokeFunction(\n",
              "            'suggestCharts', [key], {});\n",
              "      } catch (error) {\n",
              "        console.error('Error during call to suggestCharts:', error);\n",
              "      }\n",
              "      quickchartButtonEl.classList.remove('colab-df-spinner');\n",
              "      quickchartButtonEl.classList.add('colab-df-quickchart-complete');\n",
              "    }\n",
              "    (() => {\n",
              "      let quickchartButtonEl =\n",
              "        document.querySelector('#df-84e07bf1-e84b-45d1-bd6a-0ebbce3c6207 button');\n",
              "      quickchartButtonEl.style.display =\n",
              "        google.colab.kernel.accessAllowed ? 'block' : 'none';\n",
              "    })();\n",
              "  </script>\n",
              "</div>\n",
              "\n",
              "  <div id=\"id_02257a1e-c75e-4626-bf0d-58a56169ca5d\">\n",
              "    <style>\n",
              "      .colab-df-generate {\n",
              "        background-color: #E8F0FE;\n",
              "        border: none;\n",
              "        border-radius: 50%;\n",
              "        cursor: pointer;\n",
              "        display: none;\n",
              "        fill: #1967D2;\n",
              "        height: 32px;\n",
              "        padding: 0 0 0 0;\n",
              "        width: 32px;\n",
              "      }\n",
              "\n",
              "      .colab-df-generate:hover {\n",
              "        background-color: #E2EBFA;\n",
              "        box-shadow: 0px 1px 2px rgba(60, 64, 67, 0.3), 0px 1px 3px 1px rgba(60, 64, 67, 0.15);\n",
              "        fill: #174EA6;\n",
              "      }\n",
              "\n",
              "      [theme=dark] .colab-df-generate {\n",
              "        background-color: #3B4455;\n",
              "        fill: #D2E3FC;\n",
              "      }\n",
              "\n",
              "      [theme=dark] .colab-df-generate:hover {\n",
              "        background-color: #434B5C;\n",
              "        box-shadow: 0px 1px 3px 1px rgba(0, 0, 0, 0.15);\n",
              "        filter: drop-shadow(0px 1px 2px rgba(0, 0, 0, 0.3));\n",
              "        fill: #FFFFFF;\n",
              "      }\n",
              "    </style>\n",
              "    <button class=\"colab-df-generate\" onclick=\"generateWithVariable('df')\"\n",
              "            title=\"Generate code using this dataframe.\"\n",
              "            style=\"display:none;\">\n",
              "\n",
              "  <svg xmlns=\"http://www.w3.org/2000/svg\" height=\"24px\"viewBox=\"0 0 24 24\"\n",
              "       width=\"24px\">\n",
              "    <path d=\"M7,19H8.4L18.45,9,17,7.55,7,17.6ZM5,21V16.75L18.45,3.32a2,2,0,0,1,2.83,0l1.4,1.43a1.91,1.91,0,0,1,.58,1.4,1.91,1.91,0,0,1-.58,1.4L9.25,21ZM18.45,9,17,7.55Zm-12,3A5.31,5.31,0,0,0,4.9,8.1,5.31,5.31,0,0,0,1,6.5,5.31,5.31,0,0,0,4.9,4.9,5.31,5.31,0,0,0,6.5,1,5.31,5.31,0,0,0,8.1,4.9,5.31,5.31,0,0,0,12,6.5,5.46,5.46,0,0,0,6.5,12Z\"/>\n",
              "  </svg>\n",
              "    </button>\n",
              "    <script>\n",
              "      (() => {\n",
              "      const buttonEl =\n",
              "        document.querySelector('#id_02257a1e-c75e-4626-bf0d-58a56169ca5d button.colab-df-generate');\n",
              "      buttonEl.style.display =\n",
              "        google.colab.kernel.accessAllowed ? 'block' : 'none';\n",
              "\n",
              "      buttonEl.onclick = () => {\n",
              "        google.colab.notebook.generateWithVariable('df');\n",
              "      }\n",
              "      })();\n",
              "    </script>\n",
              "  </div>\n",
              "\n",
              "    </div>\n",
              "  </div>\n"
            ],
            "application/vnd.google.colaboratory.intrinsic+json": {
              "type": "dataframe",
              "variable_name": "df"
            }
          },
          "metadata": {},
          "execution_count": 24
        }
      ]
    },
    {
      "cell_type": "markdown",
      "source": [
        "To show maximum temperature in celsius"
      ],
      "metadata": {
        "id": "wXd-ExXFYcL2"
      }
    },
    {
      "cell_type": "code",
      "source": [
        "df['temperature_celsius'].max()"
      ],
      "metadata": {
        "colab": {
          "base_uri": "https://localhost:8080/"
        },
        "id": "_Otp394VTOy4",
        "outputId": "48252053-c92d-41e1-8dcc-f34c2397136e"
      },
      "execution_count": 25,
      "outputs": [
        {
          "output_type": "execute_result",
          "data": {
            "text/plain": [
              "49.2"
            ]
          },
          "metadata": {},
          "execution_count": 25
        }
      ]
    },
    {
      "cell_type": "markdown",
      "source": [
        "Minimum temperature in celsius"
      ],
      "metadata": {
        "id": "bWviaLxhYoEp"
      }
    },
    {
      "cell_type": "code",
      "source": [
        "df['temperature_celsius'].min()"
      ],
      "metadata": {
        "colab": {
          "base_uri": "https://localhost:8080/"
        },
        "id": "pYYgH25FXA5k",
        "outputId": "c28d1f77-ee01-4b80-d8e0-036938f058bc"
      },
      "execution_count": 26,
      "outputs": [
        {
          "output_type": "execute_result",
          "data": {
            "text/plain": [
              "-3.7"
            ]
          },
          "metadata": {},
          "execution_count": 26
        }
      ]
    },
    {
      "cell_type": "markdown",
      "source": [
        "Total sum of temperature in celsius"
      ],
      "metadata": {
        "id": "cXqSdFCxYwvZ"
      }
    },
    {
      "cell_type": "code",
      "source": [
        "df['temperature_celsius'].sum()"
      ],
      "metadata": {
        "colab": {
          "base_uri": "https://localhost:8080/"
        },
        "id": "TzlciZu2YMPw",
        "outputId": "29e104ec-c3f6-45d5-f815-3b1845f5155c"
      },
      "execution_count": 27,
      "outputs": [
        {
          "output_type": "execute_result",
          "data": {
            "text/plain": [
              "210850.1"
            ]
          },
          "metadata": {},
          "execution_count": 27
        }
      ]
    },
    {
      "cell_type": "markdown",
      "source": [
        "Average temperature in celsius"
      ],
      "metadata": {
        "id": "08VtqazCY5Kh"
      }
    },
    {
      "cell_type": "code",
      "source": [
        "df['temperature_celsius'].mean()"
      ],
      "metadata": {
        "colab": {
          "base_uri": "https://localhost:8080/"
        },
        "id": "85KVJWVIYTkV",
        "outputId": "0de5d01e-3be7-4f7d-ba39-162e192dda2e"
      },
      "execution_count": 28,
      "outputs": [
        {
          "output_type": "execute_result",
          "data": {
            "text/plain": [
              "25.861658285293757"
            ]
          },
          "metadata": {},
          "execution_count": 28
        }
      ]
    },
    {
      "cell_type": "code",
      "source": [
        "df['temperature_celsius'].count()"
      ],
      "metadata": {
        "colab": {
          "base_uri": "https://localhost:8080/"
        },
        "id": "dL8K4MMvaZog",
        "outputId": "a90d2502-9063-4ca7-a63b-5f13b2adce44"
      },
      "execution_count": 31,
      "outputs": [
        {
          "output_type": "execute_result",
          "data": {
            "text/plain": [
              "8153"
            ]
          },
          "metadata": {},
          "execution_count": 31
        }
      ]
    },
    {
      "cell_type": "code",
      "source": [
        "df['last_updated'][df['condition_text']=='Sunny'][df['last_updated']=='2024-05-16 11:45']"
      ],
      "metadata": {
        "colab": {
          "base_uri": "https://localhost:8080/",
          "height": 586
        },
        "id": "x_KUFlmfZk9s",
        "outputId": "78454074-cb28-44bf-8ec3-11421b1e1885"
      },
      "execution_count": 36,
      "outputs": [
        {
          "output_type": "execute_result",
          "data": {
            "text/plain": [
              "12     2024-05-16 11:45\n",
              "15     2024-05-16 11:45\n",
              "28     2024-05-16 11:45\n",
              "47     2024-05-16 11:45\n",
              "51     2024-05-16 11:45\n",
              "55     2024-05-16 11:45\n",
              "59     2024-05-16 11:45\n",
              "93     2024-05-16 11:45\n",
              "99     2024-05-16 11:45\n",
              "120    2024-05-16 11:45\n",
              "141    2024-05-16 11:45\n",
              "142    2024-05-16 11:45\n",
              "143    2024-05-16 11:45\n",
              "151    2024-05-16 11:45\n",
              "170    2024-05-16 11:45\n",
              "175    2024-05-16 11:45\n",
              "Name: last_updated, dtype: object"
            ],
            "text/html": [
              "<div>\n",
              "<style scoped>\n",
              "    .dataframe tbody tr th:only-of-type {\n",
              "        vertical-align: middle;\n",
              "    }\n",
              "\n",
              "    .dataframe tbody tr th {\n",
              "        vertical-align: top;\n",
              "    }\n",
              "\n",
              "    .dataframe thead th {\n",
              "        text-align: right;\n",
              "    }\n",
              "</style>\n",
              "<table border=\"1\" class=\"dataframe\">\n",
              "  <thead>\n",
              "    <tr style=\"text-align: right;\">\n",
              "      <th></th>\n",
              "      <th>last_updated</th>\n",
              "    </tr>\n",
              "  </thead>\n",
              "  <tbody>\n",
              "    <tr>\n",
              "      <th>12</th>\n",
              "      <td>2024-05-16 11:45</td>\n",
              "    </tr>\n",
              "    <tr>\n",
              "      <th>15</th>\n",
              "      <td>2024-05-16 11:45</td>\n",
              "    </tr>\n",
              "    <tr>\n",
              "      <th>28</th>\n",
              "      <td>2024-05-16 11:45</td>\n",
              "    </tr>\n",
              "    <tr>\n",
              "      <th>47</th>\n",
              "      <td>2024-05-16 11:45</td>\n",
              "    </tr>\n",
              "    <tr>\n",
              "      <th>51</th>\n",
              "      <td>2024-05-16 11:45</td>\n",
              "    </tr>\n",
              "    <tr>\n",
              "      <th>55</th>\n",
              "      <td>2024-05-16 11:45</td>\n",
              "    </tr>\n",
              "    <tr>\n",
              "      <th>59</th>\n",
              "      <td>2024-05-16 11:45</td>\n",
              "    </tr>\n",
              "    <tr>\n",
              "      <th>93</th>\n",
              "      <td>2024-05-16 11:45</td>\n",
              "    </tr>\n",
              "    <tr>\n",
              "      <th>99</th>\n",
              "      <td>2024-05-16 11:45</td>\n",
              "    </tr>\n",
              "    <tr>\n",
              "      <th>120</th>\n",
              "      <td>2024-05-16 11:45</td>\n",
              "    </tr>\n",
              "    <tr>\n",
              "      <th>141</th>\n",
              "      <td>2024-05-16 11:45</td>\n",
              "    </tr>\n",
              "    <tr>\n",
              "      <th>142</th>\n",
              "      <td>2024-05-16 11:45</td>\n",
              "    </tr>\n",
              "    <tr>\n",
              "      <th>143</th>\n",
              "      <td>2024-05-16 11:45</td>\n",
              "    </tr>\n",
              "    <tr>\n",
              "      <th>151</th>\n",
              "      <td>2024-05-16 11:45</td>\n",
              "    </tr>\n",
              "    <tr>\n",
              "      <th>170</th>\n",
              "      <td>2024-05-16 11:45</td>\n",
              "    </tr>\n",
              "    <tr>\n",
              "      <th>175</th>\n",
              "      <td>2024-05-16 11:45</td>\n",
              "    </tr>\n",
              "  </tbody>\n",
              "</table>\n",
              "</div><br><label><b>dtype:</b> object</label>"
            ]
          },
          "metadata": {},
          "execution_count": 36
        }
      ]
    }
  ]
}