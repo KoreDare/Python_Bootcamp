{
  "nbformat": 4,
  "nbformat_minor": 0,
  "metadata": {
    "colab": {
      "provenance": [],
      "authorship_tag": "ABX9TyOHSNvYLaXIVXmewBUU15cH",
      "include_colab_link": true
    },
    "kernelspec": {
      "name": "python3",
      "display_name": "Python 3"
    },
    "language_info": {
      "name": "python"
    }
  },
  "cells": [
    {
      "cell_type": "markdown",
      "metadata": {
        "id": "view-in-github",
        "colab_type": "text"
      },
      "source": [
        "<a href=\"https://colab.research.google.com/github/KoreDare/Python_Bootcamp/blob/main/Python_Basics.ipynb\" target=\"_parent\"><img src=\"https://colab.research.google.com/assets/colab-badge.svg\" alt=\"Open In Colab\"/></a>"
      ]
    },
    {
      "cell_type": "code",
      "execution_count": 3,
      "metadata": {
        "id": "R6MSkhn9Zju5",
        "colab": {
          "base_uri": "https://localhost:8080/"
        },
        "outputId": "d2b2bf39-5118-44c4-8c7b-be2af05ace41"
      },
      "outputs": [
        {
          "output_type": "stream",
          "name": "stdout",
          "text": [
            "Apple\n",
            "Pineapple\n",
            "Banana\n",
            "Mango\n"
          ]
        }
      ],
      "source": [
        "fruit = \"Banana\"\n",
        "Fruit = 'Apple'\n",
        "fruiT = 'Pineapple'\n",
        "frUIt = 'Mango'\n",
        "\n",
        "print(Fruit)\n",
        "print(fruiT)\n",
        "print(fruit)\n",
        "print(frUIt)"
      ]
    },
    {
      "cell_type": "code",
      "source": [
        "print('Welcome to the session.')\n",
        "\n",
        "fruit = 'Apple'\n",
        "\n",
        "if fruit == 'Apple':\n",
        "  print('Yes it is apple')\n",
        "\n",
        "\n",
        "print(\"This is not an indentation.\")"
      ],
      "metadata": {
        "colab": {
          "base_uri": "https://localhost:8080/"
        },
        "id": "K7iMkfKs6xn9",
        "outputId": "3180937c-4124-4e41-dda5-6425a11669c4"
      },
      "execution_count": 4,
      "outputs": [
        {
          "output_type": "stream",
          "name": "stdout",
          "text": [
            "Welcome to the session.\n",
            "Yes it is apple\n",
            "This is not an indentation.\n"
          ]
        }
      ]
    },
    {
      "cell_type": "code",
      "source": [
        "# This is an If Condition\n",
        "\n",
        "fruit = 'Banana'\n",
        "\n",
        "if Fruit == 'Banana':\n",
        "  print('Yes, it is banana')"
      ],
      "metadata": {
        "id": "gpllf_Iz8goG"
      },
      "execution_count": 11,
      "outputs": []
    },
    {
      "cell_type": "code",
      "source": [
        "# This is a single line comment\n",
        "\n",
        "'''\n",
        "This is\n",
        "a multi-line\n",
        "comment\n",
        "'''\n",
        "\n",
        "\"\"\"\n",
        "This is\n",
        "a multi-line\n",
        "comment\n",
        "\"\"\""
      ],
      "metadata": {
        "id": "k-GYd1Df9nq-"
      },
      "execution_count": null,
      "outputs": []
    },
    {
      "cell_type": "code",
      "source": [
        "num = 100\n",
        "name = 'Korede'\n",
        "marks = 99.90\n",
        "isStudent = True\n",
        "\n",
        "print(type(num))\n",
        "print(type(name))\n",
        "print(type(marks))\n",
        "print(type(isStudent))"
      ],
      "metadata": {
        "colab": {
          "base_uri": "https://localhost:8080/"
        },
        "id": "1LjoStY2-F7p",
        "outputId": "53b2122b-4ef0-41ae-cb01-d3d093816514"
      },
      "execution_count": 12,
      "outputs": [
        {
          "output_type": "stream",
          "name": "stdout",
          "text": [
            "<class 'int'>\n",
            "<class 'str'>\n",
            "<class 'float'>\n",
            "<class 'bool'>\n"
          ]
        }
      ]
    },
    {
      "cell_type": "code",
      "source": [
        "# This is a List\n",
        "fruits = ['Apple', 'Banana', 'Pineapple', 'Grapes']\n",
        "print(fruits)\n",
        "print(type(fruits))\n",
        "\n",
        "fruits.append('Mango')\n",
        "fruits.append('Guava')\n",
        "print(fruits)"
      ],
      "metadata": {
        "colab": {
          "base_uri": "https://localhost:8080/"
        },
        "id": "nPDy1QJ--9rT",
        "outputId": "68223ae8-bd83-4fb7-cc81-4841a5ca405d"
      },
      "execution_count": 13,
      "outputs": [
        {
          "output_type": "stream",
          "name": "stdout",
          "text": [
            "['Apple', 'Banana', 'Pineapple', 'Grapes']\n",
            "<class 'list'>\n",
            "['Apple', 'Banana', 'Pineapple', 'Grapes', 'Mango', 'Guava']\n"
          ]
        }
      ]
    },
    {
      "cell_type": "code",
      "source": [
        "# This is a Tuple\n",
        "fruits = ('Apple', 'Banana', 'Pineapple')\n",
        "print(fruits)\n",
        "print(type(fruits))\n",
        "\n",
        "\"\"\"\n",
        "Note that Tuple cannot be updated like List,\n",
        "unless you first convert it to List, update,\n",
        "then convert it back to Tuple. That is why we have attribute error\n",
        "\"\"\"\n",
        "fruits.append('Mango')\n",
        "print(fruits)"
      ],
      "metadata": {
        "colab": {
          "base_uri": "https://localhost:8080/",
          "height": 228
        },
        "id": "Wlc9Hfs6_64z",
        "outputId": "d2edd537-40dc-4b6a-f457-3aad7a58edf8"
      },
      "execution_count": 14,
      "outputs": [
        {
          "output_type": "stream",
          "name": "stdout",
          "text": [
            "('Apple', 'Banana', 'Pineapple')\n",
            "<class 'tuple'>\n"
          ]
        },
        {
          "output_type": "error",
          "ename": "AttributeError",
          "evalue": "'tuple' object has no attribute 'append'",
          "traceback": [
            "\u001b[0;31m---------------------------------------------------------------------------\u001b[0m",
            "\u001b[0;31mAttributeError\u001b[0m                            Traceback (most recent call last)",
            "\u001b[0;32m<ipython-input-14-7731c2761f00>\u001b[0m in \u001b[0;36m<cell line: 0>\u001b[0;34m()\u001b[0m\n\u001b[1;32m      4\u001b[0m \u001b[0mprint\u001b[0m\u001b[0;34m(\u001b[0m\u001b[0mtype\u001b[0m\u001b[0;34m(\u001b[0m\u001b[0mfruits\u001b[0m\u001b[0;34m)\u001b[0m\u001b[0;34m)\u001b[0m\u001b[0;34m\u001b[0m\u001b[0;34m\u001b[0m\u001b[0m\n\u001b[1;32m      5\u001b[0m \u001b[0;34m\u001b[0m\u001b[0m\n\u001b[0;32m----> 6\u001b[0;31m \u001b[0mfruits\u001b[0m\u001b[0;34m.\u001b[0m\u001b[0mappend\u001b[0m\u001b[0;34m(\u001b[0m\u001b[0;34m'Mango'\u001b[0m\u001b[0;34m)\u001b[0m\u001b[0;34m\u001b[0m\u001b[0;34m\u001b[0m\u001b[0m\n\u001b[0m\u001b[1;32m      7\u001b[0m \u001b[0mprint\u001b[0m\u001b[0;34m(\u001b[0m\u001b[0mfruits\u001b[0m\u001b[0;34m)\u001b[0m\u001b[0;34m\u001b[0m\u001b[0;34m\u001b[0m\u001b[0m\n",
            "\u001b[0;31mAttributeError\u001b[0m: 'tuple' object has no attribute 'append'"
          ]
        }
      ]
    },
    {
      "cell_type": "code",
      "source": [
        "a = 40\n",
        "b = 15\n",
        "\n",
        "# Arithmetic Operation\n",
        "print(a+b)\n",
        "print(a-b)\n",
        "print(a*b)\n",
        "print(a/b)\n",
        "print(a//b)\n",
        "print(a**b)\n",
        "\n",
        "print('The addition of', a, 'and', b, 'is', a+b)"
      ],
      "metadata": {
        "colab": {
          "base_uri": "https://localhost:8080/"
        },
        "id": "i4iceCSzAu4_",
        "outputId": "cbbc35ef-4203-464a-f77b-d14f830d5254"
      },
      "execution_count": 16,
      "outputs": [
        {
          "output_type": "stream",
          "name": "stdout",
          "text": [
            "55\n",
            "25\n",
            "600\n",
            "2.6666666666666665\n",
            "2\n",
            "1073741824000000000000000\n",
            "The addition of 40 and 15 is 55\n"
          ]
        }
      ]
    },
    {
      "cell_type": "code",
      "source": [
        "a = 40\n",
        "b = 15\n",
        "\n",
        "print('The addition of', a, 'and', b, 'is', a+b)\n",
        "print('The subtraction of', b, 'from', a, 'is', a-b)\n",
        "print('The multiplication of', a, 'and', b, 'is', a*b)\n",
        "print('The division of', a, 'and', b, 'is', a/b)"
      ],
      "metadata": {
        "colab": {
          "base_uri": "https://localhost:8080/"
        },
        "id": "u7oeNHP3E3_X",
        "outputId": "af10c741-468e-48d2-c00c-4cc2aeacb92f"
      },
      "execution_count": 17,
      "outputs": [
        {
          "output_type": "stream",
          "name": "stdout",
          "text": [
            "The addition of 40 and 15 is 55\n",
            "The subtraction of 15 from 40 is 25\n",
            "The multiplication of 40 and 15 is 600\n",
            "The division of 40 and 15 is 2.6666666666666665\n"
          ]
        }
      ]
    },
    {
      "cell_type": "code",
      "source": [
        "# Input Function\n",
        "name =input('Enter your name: ')\n",
        "\n",
        "# Output Function\n",
        "print('My name is', name)"
      ],
      "metadata": {
        "colab": {
          "base_uri": "https://localhost:8080/"
        },
        "id": "Tsj92gaVGWXk",
        "outputId": "0ea61ab2-756e-40d8-81d3-907dbe56f9fe"
      },
      "execution_count": 18,
      "outputs": [
        {
          "output_type": "stream",
          "name": "stdout",
          "text": [
            "Enter your name: Korede\n",
            "My name is Korede\n"
          ]
        }
      ]
    }
  ]
}