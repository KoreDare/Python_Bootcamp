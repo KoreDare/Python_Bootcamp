{
  "nbformat": 4,
  "nbformat_minor": 0,
  "metadata": {
    "colab": {
      "provenance": [],
      "authorship_tag": "ABX9TyOblzhFMzq/Cqia1pngextH",
      "include_colab_link": true
    },
    "kernelspec": {
      "name": "python3",
      "display_name": "Python 3"
    },
    "language_info": {
      "name": "python"
    }
  },
  "cells": [
    {
      "cell_type": "markdown",
      "metadata": {
        "id": "view-in-github",
        "colab_type": "text"
      },
      "source": [
        "<a href=\"https://colab.research.google.com/github/KoreDare/Python_Bootcamp/blob/main/Python_Basics.ipynb\" target=\"_parent\"><img src=\"https://colab.research.google.com/assets/colab-badge.svg\" alt=\"Open In Colab\"/></a>"
      ]
    },
    {
      "cell_type": "code",
      "execution_count": null,
      "metadata": {
        "id": "R6MSkhn9Zju5",
        "colab": {
          "base_uri": "https://localhost:8080/"
        },
        "outputId": "d2b2bf39-5118-44c4-8c7b-be2af05ace41"
      },
      "outputs": [
        {
          "output_type": "stream",
          "name": "stdout",
          "text": [
            "Apple\n",
            "Pineapple\n",
            "Banana\n",
            "Mango\n"
          ]
        }
      ],
      "source": [
        "fruit = \"Banana\"\n",
        "Fruit = 'Apple'\n",
        "fruiT = 'Pineapple'\n",
        "frUIt = 'Mango'\n",
        "\n",
        "print(Fruit)\n",
        "print(fruiT)\n",
        "print(fruit)\n",
        "print(frUIt)"
      ]
    },
    {
      "cell_type": "code",
      "source": [
        "print('Welcome to the session.')\n",
        "\n",
        "fruit = 'Apple'\n",
        "\n",
        "if fruit == 'Apple':\n",
        "  print('Yes it is apple')\n",
        "\n",
        "\n",
        "print(\"This is not an indentation.\")"
      ],
      "metadata": {
        "colab": {
          "base_uri": "https://localhost:8080/"
        },
        "id": "K7iMkfKs6xn9",
        "outputId": "3180937c-4124-4e41-dda5-6425a11669c4"
      },
      "execution_count": null,
      "outputs": [
        {
          "output_type": "stream",
          "name": "stdout",
          "text": [
            "Welcome to the session.\n",
            "Yes it is apple\n",
            "This is not an indentation.\n"
          ]
        }
      ]
    },
    {
      "cell_type": "code",
      "source": [
        "# This is an If Condition\n",
        "\n",
        "fruit = 'Banana'\n",
        "\n",
        "if Fruit == 'Banana':\n",
        "  print('Yes, it is banana')"
      ],
      "metadata": {
        "id": "gpllf_Iz8goG"
      },
      "execution_count": null,
      "outputs": []
    },
    {
      "cell_type": "code",
      "source": [
        "# This is a single line comment\n",
        "\n",
        "'''\n",
        "This is\n",
        "a multi-line\n",
        "comment\n",
        "'''\n",
        "\n",
        "\"\"\"\n",
        "This is\n",
        "a multi-line\n",
        "comment\n",
        "\"\"\""
      ],
      "metadata": {
        "id": "k-GYd1Df9nq-"
      },
      "execution_count": null,
      "outputs": []
    },
    {
      "cell_type": "code",
      "source": [
        "num = 100\n",
        "name = 'Korede'\n",
        "marks = 99.90\n",
        "isStudent = True\n",
        "\n",
        "print(type(num))\n",
        "print(type(name))\n",
        "print(type(marks))\n",
        "print(type(isStudent))"
      ],
      "metadata": {
        "colab": {
          "base_uri": "https://localhost:8080/"
        },
        "id": "1LjoStY2-F7p",
        "outputId": "53b2122b-4ef0-41ae-cb01-d3d093816514"
      },
      "execution_count": null,
      "outputs": [
        {
          "output_type": "stream",
          "name": "stdout",
          "text": [
            "<class 'int'>\n",
            "<class 'str'>\n",
            "<class 'float'>\n",
            "<class 'bool'>\n"
          ]
        }
      ]
    },
    {
      "cell_type": "code",
      "source": [
        "# This is a List\n",
        "fruits = ['Apple', 'Banana', 'Pineapple', 'Grapes']\n",
        "print(fruits)\n",
        "print(type(fruits))\n",
        "\n",
        "fruits.append('Mango')\n",
        "fruits.append('Guava')\n",
        "print(fruits)"
      ],
      "metadata": {
        "colab": {
          "base_uri": "https://localhost:8080/"
        },
        "id": "nPDy1QJ--9rT",
        "outputId": "68223ae8-bd83-4fb7-cc81-4841a5ca405d"
      },
      "execution_count": null,
      "outputs": [
        {
          "output_type": "stream",
          "name": "stdout",
          "text": [
            "['Apple', 'Banana', 'Pineapple', 'Grapes']\n",
            "<class 'list'>\n",
            "['Apple', 'Banana', 'Pineapple', 'Grapes', 'Mango', 'Guava']\n"
          ]
        }
      ]
    },
    {
      "cell_type": "code",
      "source": [
        "# This is a Tuple\n",
        "fruits = ('Apple', 'Banana', 'Pineapple')\n",
        "print(fruits)\n",
        "print(type(fruits))\n",
        "\n",
        "\"\"\"\n",
        "Note that Tuple cannot be updated like List,\n",
        "unless you first convert it to List, update,\n",
        "then convert it back to Tuple. That is why we have attribute error\n",
        "\"\"\"\n",
        "fruits.append('Mango')\n",
        "print(fruits)"
      ],
      "metadata": {
        "colab": {
          "base_uri": "https://localhost:8080/",
          "height": 228
        },
        "id": "Wlc9Hfs6_64z",
        "outputId": "d2edd537-40dc-4b6a-f457-3aad7a58edf8"
      },
      "execution_count": null,
      "outputs": [
        {
          "output_type": "stream",
          "name": "stdout",
          "text": [
            "('Apple', 'Banana', 'Pineapple')\n",
            "<class 'tuple'>\n"
          ]
        },
        {
          "output_type": "error",
          "ename": "AttributeError",
          "evalue": "'tuple' object has no attribute 'append'",
          "traceback": [
            "\u001b[0;31m---------------------------------------------------------------------------\u001b[0m",
            "\u001b[0;31mAttributeError\u001b[0m                            Traceback (most recent call last)",
            "\u001b[0;32m<ipython-input-14-7731c2761f00>\u001b[0m in \u001b[0;36m<cell line: 0>\u001b[0;34m()\u001b[0m\n\u001b[1;32m      4\u001b[0m \u001b[0mprint\u001b[0m\u001b[0;34m(\u001b[0m\u001b[0mtype\u001b[0m\u001b[0;34m(\u001b[0m\u001b[0mfruits\u001b[0m\u001b[0;34m)\u001b[0m\u001b[0;34m)\u001b[0m\u001b[0;34m\u001b[0m\u001b[0;34m\u001b[0m\u001b[0m\n\u001b[1;32m      5\u001b[0m \u001b[0;34m\u001b[0m\u001b[0m\n\u001b[0;32m----> 6\u001b[0;31m \u001b[0mfruits\u001b[0m\u001b[0;34m.\u001b[0m\u001b[0mappend\u001b[0m\u001b[0;34m(\u001b[0m\u001b[0;34m'Mango'\u001b[0m\u001b[0;34m)\u001b[0m\u001b[0;34m\u001b[0m\u001b[0;34m\u001b[0m\u001b[0m\n\u001b[0m\u001b[1;32m      7\u001b[0m \u001b[0mprint\u001b[0m\u001b[0;34m(\u001b[0m\u001b[0mfruits\u001b[0m\u001b[0;34m)\u001b[0m\u001b[0;34m\u001b[0m\u001b[0;34m\u001b[0m\u001b[0m\n",
            "\u001b[0;31mAttributeError\u001b[0m: 'tuple' object has no attribute 'append'"
          ]
        }
      ]
    },
    {
      "cell_type": "code",
      "source": [
        "a = 40\n",
        "b = 15\n",
        "\n",
        "# Arithmetic Operation\n",
        "print(a+b)\n",
        "print(a-b)\n",
        "print(a*b)\n",
        "print(a/b)\n",
        "print(a//b)\n",
        "print(a**b)\n",
        "\n",
        "print('The addition of', a, 'and', b, 'is', a+b)"
      ],
      "metadata": {
        "colab": {
          "base_uri": "https://localhost:8080/"
        },
        "id": "i4iceCSzAu4_",
        "outputId": "cbbc35ef-4203-464a-f77b-d14f830d5254"
      },
      "execution_count": null,
      "outputs": [
        {
          "output_type": "stream",
          "name": "stdout",
          "text": [
            "55\n",
            "25\n",
            "600\n",
            "2.6666666666666665\n",
            "2\n",
            "1073741824000000000000000\n",
            "The addition of 40 and 15 is 55\n"
          ]
        }
      ]
    },
    {
      "cell_type": "code",
      "source": [
        "a = 40\n",
        "b = 15\n",
        "\n",
        "print('The addition of', a, 'and', b, 'is', a+b)\n",
        "print('The subtraction of', b, 'from', a, 'is', a-b)\n",
        "print('The multiplication of', a, 'and', b, 'is', a*b)\n",
        "print('The division of', a, 'and', b, 'is', a/b)"
      ],
      "metadata": {
        "colab": {
          "base_uri": "https://localhost:8080/"
        },
        "id": "u7oeNHP3E3_X",
        "outputId": "af10c741-468e-48d2-c00c-4cc2aeacb92f"
      },
      "execution_count": null,
      "outputs": [
        {
          "output_type": "stream",
          "name": "stdout",
          "text": [
            "The addition of 40 and 15 is 55\n",
            "The subtraction of 15 from 40 is 25\n",
            "The multiplication of 40 and 15 is 600\n",
            "The division of 40 and 15 is 2.6666666666666665\n"
          ]
        }
      ]
    },
    {
      "cell_type": "code",
      "source": [
        "# Input Function\n",
        "name =input('Enter your name: ')\n",
        "\n",
        "# Output Function\n",
        "print('My name is', name)"
      ],
      "metadata": {
        "colab": {
          "base_uri": "https://localhost:8080/"
        },
        "id": "Tsj92gaVGWXk",
        "outputId": "0ea61ab2-756e-40d8-81d3-907dbe56f9fe"
      },
      "execution_count": null,
      "outputs": [
        {
          "output_type": "stream",
          "name": "stdout",
          "text": [
            "Enter your name: Korede\n",
            "My name is Korede\n"
          ]
        }
      ]
    },
    {
      "cell_type": "markdown",
      "source": [
        "Note: Python takes note of the last command. So unless you insert the print command after each line, it will not retain the information of fruit as Banana, because the information of fruit = 'Orange' has overridden the previous information."
      ],
      "metadata": {
        "id": "kHzNHv_adNcj"
      }
    },
    {
      "cell_type": "code",
      "source": [
        "fruit = 'Banana'\n",
        "fruit = 'Orange'\n",
        "Fruit = 'Mango'\n",
        "fRUit = 'Guava'\n",
        "fruiT = 'Lemon'\n",
        "\n",
        "print(fruit)\n",
        "print(fruit)\n",
        "print(Fruit)\n",
        "print(fRUit)\n",
        "print(fruiT)"
      ],
      "metadata": {
        "colab": {
          "base_uri": "https://localhost:8080/"
        },
        "id": "76KhUrY2YtHs",
        "outputId": "890cdb21-4225-4ff1-8796-99eb0a21e65d"
      },
      "execution_count": null,
      "outputs": [
        {
          "output_type": "stream",
          "name": "stdout",
          "text": [
            "Orange\n",
            "Orange\n",
            "Mango\n",
            "Guava\n",
            "Lemon\n"
          ]
        }
      ]
    },
    {
      "cell_type": "code",
      "source": [
        "a = 'This is our string.'\n",
        "print(a)\n",
        "\n",
        "print(a.upper())\n",
        "print(a.lower())\n",
        "print(a.title())"
      ],
      "metadata": {
        "colab": {
          "base_uri": "https://localhost:8080/"
        },
        "id": "Qdu96BMRaE0U",
        "outputId": "6800fef4-3b33-45e7-88d3-6a16d45079a4"
      },
      "execution_count": null,
      "outputs": [
        {
          "output_type": "stream",
          "name": "stdout",
          "text": [
            "This is our string.\n",
            "THIS IS OUR STRING.\n",
            "this is our string.\n",
            "This Is Our String.\n"
          ]
        }
      ]
    },
    {
      "cell_type": "code",
      "source": [
        "student = '         Korede Oluwadare    '\n",
        "\n",
        "print(student)\n",
        "print(student.strip())\n",
        "print(student.lstrip())\n",
        "print(student.rstrip())"
      ],
      "metadata": {
        "colab": {
          "base_uri": "https://localhost:8080/"
        },
        "id": "XxQTelAFeV9F",
        "outputId": "4ec4b7ef-ad7d-4135-febd-48fa3bb83cb0"
      },
      "execution_count": null,
      "outputs": [
        {
          "output_type": "stream",
          "name": "stdout",
          "text": [
            "         Korede Oluwadare    \n",
            "Korede Oluwadare\n",
            "Korede Oluwadare    \n",
            "         Korede Oluwadare\n"
          ]
        }
      ]
    },
    {
      "cell_type": "code",
      "source": [
        "data = \"\"\"Tesla has labor disputes in the United States, Germany and Sweden, including an ongoing strike\n",
        "in Sweden. Elon Musk, the CEO of Tesla, has expressed his opposition to unions on Twitter (now called X). The\n",
        "NLRB held that one tweet was an threat, but was overturned by a federal appeals court. All unionization efforts at the Tesla\n",
        "Fremont Factory and Gigafactory New York in the United States have been unsuccessful. In Germany, Gigafactory Berlin-Brandenburg\n",
        "and Tesla Automation have elected works councils, but they have not signed collective bargaining agreements with the\n",
        "German trade union IG Metall (members pictured).\n",
        "\"\"\"\n",
        "\n",
        "# index always starts from 0\n",
        "print(data.find('Tesla'))\n",
        "print(data.find('labor'))\n",
        "print(data.replace('Tesla', 'Volkswagen'))"
      ],
      "metadata": {
        "colab": {
          "base_uri": "https://localhost:8080/"
        },
        "id": "p9tQvxUegDHl",
        "outputId": "4de1cd7a-f25d-4083-cace-527e5af822ae"
      },
      "execution_count": null,
      "outputs": [
        {
          "output_type": "stream",
          "name": "stdout",
          "text": [
            "0\n",
            "10\n",
            "Volkswagen has labor disputes in the United States, Germany and Sweden, including an ongoing strike \n",
            "in Sweden. Elon Musk, the CEO of Volkswagen, has expressed his opposition to unions on Twitter (now called X). The \n",
            "NLRB held that one tweet was an threat, but was overturned by a federal appeals court. All unionization efforts at the Volkswagen \n",
            "Fremont Factory and Gigafactory New York in the United States have been unsuccessful. In Germany, Gigafactory Berlin-Brandenburg \n",
            "and Volkswagen Automation have elected works councils, but they have not signed collective bargaining agreements with the \n",
            "German trade union IG Metall (members pictured).\n",
            "\n"
          ]
        }
      ]
    },
    {
      "cell_type": "code",
      "source": [
        "names = 'Korede, Peter, Sharon'\n",
        "\n",
        "print(names.split(','))\n",
        "print('-'.join(names))"
      ],
      "metadata": {
        "colab": {
          "base_uri": "https://localhost:8080/"
        },
        "id": "vNBuqcGLumCM",
        "outputId": "438bc2f1-2cc1-4c83-d66a-4a17d5aea713"
      },
      "execution_count": null,
      "outputs": [
        {
          "output_type": "stream",
          "name": "stdout",
          "text": [
            "['Korede', ' Peter', ' Sharon']\n",
            "K-o-r-e-d-e-,- -P-e-t-e-r-,- -S-h-a-r-o-n\n"
          ]
        }
      ]
    },
    {
      "cell_type": "code",
      "source": [
        "names = 'Korede Peter Sharon'\n",
        "\n",
        "print(names.split(' '))\n",
        "print('-'.join(names))"
      ],
      "metadata": {
        "colab": {
          "base_uri": "https://localhost:8080/"
        },
        "id": "eZLfLoliZjhZ",
        "outputId": "e06c1e2f-67a8-454f-a4f9-9ddde69eae37"
      },
      "execution_count": null,
      "outputs": [
        {
          "output_type": "stream",
          "name": "stdout",
          "text": [
            "['Korede', 'Peter', 'Sharon']\n",
            "K-o-r-e-d-e- -P-e-t-e-r- -S-h-a-r-o-n\n"
          ]
        }
      ]
    },
    {
      "cell_type": "code",
      "source": [
        "names = ['Korede','Peter','Sharon']\n",
        "\n",
        "print('-'.join(names))"
      ],
      "metadata": {
        "colab": {
          "base_uri": "https://localhost:8080/"
        },
        "id": "2gA8O5Weff6r",
        "outputId": "8b21c2cd-61e4-4cf5-8868-d6da000213c9"
      },
      "execution_count": null,
      "outputs": [
        {
          "output_type": "stream",
          "name": "stdout",
          "text": [
            "Korede-Peter-Sharon\n"
          ]
        }
      ]
    },
    {
      "cell_type": "code",
      "source": [
        "data = 'This is sample data.'\n",
        "\n",
        "print(data.startswith('T'))\n",
        "print(data.startswith('I'))\n",
        "print(data.endswith('this'))\n",
        "print(data.endswith('.'))\n",
        "print(data.isdigit())"
      ],
      "metadata": {
        "colab": {
          "base_uri": "https://localhost:8080/"
        },
        "id": "oxY1127-1jC_",
        "outputId": "48bf6317-1a4c-46c8-c5f1-59c529a0aa06"
      },
      "execution_count": null,
      "outputs": [
        {
          "output_type": "stream",
          "name": "stdout",
          "text": [
            "True\n",
            "False\n",
            "False\n",
            "True\n",
            "False\n"
          ]
        }
      ]
    },
    {
      "cell_type": "code",
      "source": [
        "# Note that lists come in box bracket [], while tuple comes in parenthesis ().\n",
        "fruits = ['Apple', 'Banana', 'Cherry']\n",
        "print(fruits)\n",
        "\n",
        "fruits.append('Mango')    # This will add element in the list ('last')\n",
        "print(fruits)\n",
        "\n",
        "fruits.insert(1, 'Orange') # This will add element according to the index number\n",
        "print(fruits)\n",
        "\n",
        "fruits.remove('Banana')   # This will remove element in the list\n",
        "print(fruits)\n",
        "\n",
        "fruits.pop()            # This will remove the last element in the list\n",
        "print(fruits)\n",
        "\n",
        "fruits.sort()\n",
        "print(fruits)\n",
        "\n",
        "fruits.reverse()\n",
        "print(fruits)"
      ],
      "metadata": {
        "id": "SgYkCppt2jjK",
        "colab": {
          "base_uri": "https://localhost:8080/"
        },
        "outputId": "67aaeac9-363c-4533-c3a3-178c837dcbd5"
      },
      "execution_count": null,
      "outputs": [
        {
          "output_type": "stream",
          "name": "stdout",
          "text": [
            "['Apple', 'Banana', 'Cherry']\n",
            "['Apple', 'Banana', 'Cherry', 'Mango']\n",
            "['Apple', 'Orange', 'Banana', 'Cherry', 'Mango']\n",
            "['Apple', 'Orange', 'Cherry', 'Mango']\n",
            "['Apple', 'Orange', 'Cherry']\n",
            "['Apple', 'Cherry', 'Orange']\n",
            "['Orange', 'Cherry', 'Apple']\n"
          ]
        }
      ]
    },
    {
      "cell_type": "code",
      "source": [
        "# Tuple Methods\n",
        "# Note that tuple is not changeable - you cannot use append, insert or the rest like you use in lists\n",
        "# Therefore to use those variables, you must first convert tuple to list, then convert back to tuple\n",
        "# The only variables that you can use are 'count' and 'index'\n",
        "\n",
        "names = ('Korede', 'Lydia', 'Walter', 'Tope', 'Korede')\n",
        "\n",
        "print(names)\n",
        "print(names.count('Lydia'))\n",
        "print(names.index('Korede'))\n",
        "print(names.index('Walter'))\n",
        "\n",
        "# Convert Tuple into a List\n",
        "list_names = list(names)\n",
        "list_names.append('Tabitha')\n",
        "\n",
        "print(list_names)\n",
        "\n",
        "# Convert a List into Tuple\n",
        "\n",
        "tuple_names = tuple(list_names)\n",
        "print(tuple_names)\n",
        "\n",
        "# Accessing Tuple or List values\n",
        "print(names[1])\n",
        "print(names[3])"
      ],
      "metadata": {
        "colab": {
          "base_uri": "https://localhost:8080/"
        },
        "id": "EtPL_JKFBWcX",
        "outputId": "7ff8d490-2ec9-4a2b-ed61-0086f5cde818"
      },
      "execution_count": null,
      "outputs": [
        {
          "output_type": "stream",
          "name": "stdout",
          "text": [
            "('Korede', 'Lydia', 'Walter', 'Tope', 'Korede')\n",
            "1\n",
            "0\n",
            "2\n",
            "['Korede', 'Lydia', 'Walter', 'Tope', 'Korede', 'Tabitha']\n",
            "('Korede', 'Lydia', 'Walter', 'Tope', 'Korede', 'Tabitha')\n",
            "Lydia\n",
            "Tope\n"
          ]
        }
      ]
    },
    {
      "cell_type": "code",
      "source": [
        "names_1 = ['Korede', 'Lydia', 'Walter', 'Tope', 'Melody']\n",
        "\n",
        "print(names_1[0:3])\n",
        "print(names_1[0:2])\n",
        "print(names_1[4])\n",
        "print(names_1[-1])\n",
        "print(names_1[1:4])"
      ],
      "metadata": {
        "colab": {
          "base_uri": "https://localhost:8080/"
        },
        "id": "vMXWJXhuEcG5",
        "outputId": "e219ad56-06a3-4522-f08b-a30cad7610f9"
      },
      "execution_count": null,
      "outputs": [
        {
          "output_type": "stream",
          "name": "stdout",
          "text": [
            "['Korede', 'Lydia', 'Walter']\n",
            "['Korede', 'Lydia']\n",
            "Melody\n",
            "Melody\n",
            "['Lydia', 'Walter', 'Tope']\n"
          ]
        }
      ]
    },
    {
      "cell_type": "code",
      "source": [
        "# Note that dictionary comes in braces i.e. {curly bracket}\n",
        "dict_1 = {\n",
        "    'Name' : 'Korede',\n",
        "    'Age' : 44,\n",
        "    'isStudent' : True\n",
        "}\n",
        "\n",
        "print(dict_1)\n",
        "print(dict_1.keys())\n",
        "print(dict_1.values())\n",
        "print(dict_1['Name'])\n",
        "print(dict_1['Age'])\n",
        "print('My name is',dict_1['Name'], 'I am',dict_1['Age'], 'years old.')\n",
        "print('My name is',dict_1['Name'], 'Oluwadare.', 'I am',dict_1['Age'], 'years old.')\n",
        "\n",
        "print(dict_1.get('Name'))\n",
        "print(dict_1.items())"
      ],
      "metadata": {
        "colab": {
          "base_uri": "https://localhost:8080/"
        },
        "id": "x7D5gRjkGw_Q",
        "outputId": "23aac6ce-a71a-4645-b9e1-4b2d75d14127"
      },
      "execution_count": 16,
      "outputs": [
        {
          "output_type": "stream",
          "name": "stdout",
          "text": [
            "{'Name': 'Korede', 'Age': 44, 'isStudent': True}\n",
            "dict_keys(['Name', 'Age', 'isStudent'])\n",
            "dict_values(['Korede', 44, True])\n",
            "Korede\n",
            "44\n",
            "My name is Korede I am 44 years old.\n",
            "My name is Korede Oluwadare. I am 44 years old.\n",
            "Korede\n",
            "dict_items([('Name', 'Korede'), ('Age', 44), ('isStudent', True)])\n"
          ]
        }
      ]
    },
    {
      "cell_type": "code",
      "source": [
        "# Update existing value in a dictionary\n",
        "\n",
        "dict_1['Age'] = '32'\n",
        "dict_1['isStudent'] = False\n",
        "\n",
        "print(dict_1)"
      ],
      "metadata": {
        "colab": {
          "base_uri": "https://localhost:8080/"
        },
        "id": "FjlD2p3hpyOB",
        "outputId": "f1093210-4437-40c9-fe1a-f39feacf889e"
      },
      "execution_count": 11,
      "outputs": [
        {
          "output_type": "stream",
          "name": "stdout",
          "text": [
            "{'Name': 'Korede', 'Age': '32', 'isStudent': False}\n"
          ]
        }
      ]
    },
    {
      "cell_type": "code",
      "source": [
        "# Adding new key-value pair\n",
        "\n",
        "dict_1['grade'] = 'A+'\n",
        "\n",
        "print(dict_1)"
      ],
      "metadata": {
        "colab": {
          "base_uri": "https://localhost:8080/"
        },
        "id": "aa7LDLmHqV_4",
        "outputId": "0efa6393-11dc-44b5-d480-3e4f3f79f92c"
      },
      "execution_count": 12,
      "outputs": [
        {
          "output_type": "stream",
          "name": "stdout",
          "text": [
            "{'Name': 'Korede', 'Age': '32', 'isStudent': False, 'grade': 'A+'}\n"
          ]
        }
      ]
    },
    {
      "cell_type": "code",
      "source": [
        "# Remove age from dictionary\n",
        "\n",
        "dict_1.pop('Age')\n",
        "\n",
        "print(dict_1)"
      ],
      "metadata": {
        "colab": {
          "base_uri": "https://localhost:8080/"
        },
        "id": "ow0fK5y5qzrv",
        "outputId": "e111ea46-bbcc-407a-ec20-0dcdb6d77f5a"
      },
      "execution_count": 13,
      "outputs": [
        {
          "output_type": "stream",
          "name": "stdout",
          "text": [
            "{'Name': 'Korede', 'isStudent': False, 'grade': 'A+'}\n"
          ]
        }
      ]
    },
    {
      "cell_type": "code",
      "source": [
        "# Clear the dictionary\n",
        "\n",
        "dict_1.clear()\n",
        "\n",
        "print(dict_1)"
      ],
      "metadata": {
        "colab": {
          "base_uri": "https://localhost:8080/"
        },
        "id": "63DDN2INBE1Q",
        "outputId": "a02c727d-305a-4735-d3cd-520c509a9d33"
      },
      "execution_count": 14,
      "outputs": [
        {
          "output_type": "stream",
          "name": "stdout",
          "text": [
            "{}\n"
          ]
        }
      ]
    },
    {
      "cell_type": "code",
      "source": [
        "# Conditional Statement (If statement executes a block of code once the condition is satisfied)\n",
        "\n",
        "age = 20\n",
        "if age >= 18:\n",
        "  print('You can vote.')\n",
        "\n",
        "signal = 'Red'\n",
        "if signal == 'Red':\n",
        "  print('Stop')\n",
        "\n",
        "\n",
        "signal = 'Green'\n",
        "if signal == 'Red':\n",
        "  print('Stop')\n",
        "else:\n",
        "  print('You can go')\n",
        "\n",
        "\n",
        "signal = 'Amber'\n",
        "if signal == 'Red':\n",
        "  print('Stop')\n",
        "elif signal == 'Green':\n",
        "  print('You can go')\n",
        "else:\n",
        "  print('Slow down your vehicle')"
      ],
      "metadata": {
        "colab": {
          "base_uri": "https://localhost:8080/"
        },
        "id": "LT0gvPPSMikR",
        "outputId": "d5a72f9f-168f-4c97-ed1f-35ea1de3fb40"
      },
      "execution_count": 21,
      "outputs": [
        {
          "output_type": "stream",
          "name": "stdout",
          "text": [
            "You can vote.\n",
            "Stop\n",
            "You can go\n",
            "Slow down your vehicle\n"
          ]
        }
      ]
    },
    {
      "cell_type": "code",
      "source": [
        "# Loops\n",
        "\"\"\"\n",
        "To print numbers in a range without manually typing\n",
        "the individual digits or writing the program line by line.\n",
        "\"\"\"\n",
        "\n",
        "for r in range(11):\n",
        "  print(r)\n",
        "\n",
        "\"\"\"\n",
        "The difference between the code above and the code\n",
        "below is that the code above will begin from 0 to 10,\n",
        "while the code below will go from 1 to 10.\n",
        "\"\"\"\n",
        "for num in range(1, 11):\n",
        "  print(num)\n",
        "\n",
        "# Two Types of Loop - For Loop (which is the example above) and While Loop"
      ],
      "metadata": {
        "colab": {
          "base_uri": "https://localhost:8080/"
        },
        "id": "IrlHNOuRPA62",
        "outputId": "8f0e199c-e61c-4e75-feb5-1ebf4715a280"
      },
      "execution_count": 32,
      "outputs": [
        {
          "output_type": "stream",
          "name": "stdout",
          "text": [
            "0\n",
            "1\n",
            "2\n",
            "3\n",
            "4\n",
            "5\n",
            "6\n",
            "7\n",
            "8\n",
            "9\n",
            "10\n",
            "1\n",
            "2\n",
            "3\n",
            "4\n",
            "5\n",
            "6\n",
            "7\n",
            "8\n",
            "9\n",
            "10\n"
          ]
        }
      ]
    },
    {
      "cell_type": "code",
      "source": [
        "# While Loop\n",
        "\n",
        "a = 1\n",
        "\n",
        "while a <= 10:\n",
        "  print(a)\n",
        "  a += 2"
      ],
      "metadata": {
        "colab": {
          "base_uri": "https://localhost:8080/"
        },
        "id": "yixQEVIbS5tr",
        "outputId": "6383a199-01fc-4689-e30c-0ccede18ff1c"
      },
      "execution_count": 35,
      "outputs": [
        {
          "output_type": "stream",
          "name": "stdout",
          "text": [
            "1\n",
            "3\n",
            "5\n",
            "7\n",
            "9\n"
          ]
        }
      ]
    },
    {
      "cell_type": "code",
      "source": [
        "# Iterating over a list, tuple or string\n",
        "\n",
        "fruit_list = ['Apple', 'Banana', 'Cherry', 'Dates']\n",
        "fruit_tuple = ('Mango', 'Avocado', 'Grapes', 'Berry')\n",
        "fruit_str = 'Apple'\n",
        "\n",
        "for fruit in fruit_list:\n",
        "  print(fruit)\n",
        "\n",
        "for fruit in fruit_tuple:\n",
        "  print(fruit)\n",
        "\n",
        "for fruit in fruit_str:\n",
        "  print(fruit)"
      ],
      "metadata": {
        "colab": {
          "base_uri": "https://localhost:8080/"
        },
        "id": "Ix_DElx5U0gs",
        "outputId": "e96765f2-e86b-4f87-a7fe-573dffe08765"
      },
      "execution_count": 38,
      "outputs": [
        {
          "output_type": "stream",
          "name": "stdout",
          "text": [
            "Apple\n",
            "Banana\n",
            "Cherry\n",
            "Dates\n",
            "Mango\n",
            "Avocado\n",
            "Grapes\n",
            "Berry\n",
            "A\n",
            "p\n",
            "p\n",
            "l\n",
            "e\n"
          ]
        }
      ]
    },
    {
      "cell_type": "code",
      "source": [
        "# Print numbers from 1 to 15 using For Loop\n",
        "\n",
        "for num in range(1, 16):\n",
        "  print(num)"
      ],
      "metadata": {
        "colab": {
          "base_uri": "https://localhost:8080/"
        },
        "id": "aMrsbt8fZJrM",
        "outputId": "9c82b1a3-48ec-4859-aa2c-24555e8833d2"
      },
      "execution_count": 40,
      "outputs": [
        {
          "output_type": "stream",
          "name": "stdout",
          "text": [
            "1\n",
            "2\n",
            "3\n",
            "4\n",
            "5\n",
            "6\n",
            "7\n",
            "8\n",
            "9\n",
            "10\n",
            "11\n",
            "12\n",
            "13\n",
            "14\n",
            "15\n"
          ]
        }
      ]
    },
    {
      "cell_type": "code",
      "source": [
        "# Print even numbers 1 to 20 using For Loop\n",
        "\n",
        "for num in range(1, 21):\n",
        "  if num % 2 == 0:\n",
        "    print(num)"
      ],
      "metadata": {
        "colab": {
          "base_uri": "https://localhost:8080/"
        },
        "id": "YVA5PYI7W99L",
        "outputId": "ad0d9150-1e48-4fa2-d736-befa5fa7b149"
      },
      "execution_count": 39,
      "outputs": [
        {
          "output_type": "stream",
          "name": "stdout",
          "text": [
            "2\n",
            "4\n",
            "6\n",
            "8\n",
            "10\n",
            "12\n",
            "14\n",
            "16\n",
            "18\n",
            "20\n"
          ]
        }
      ]
    },
    {
      "cell_type": "code",
      "source": [
        "# Print odd numbers from 1 to 20 using For Loop\n",
        "\n",
        "for num in range(1, 20):\n",
        "  if num % 2 == 1:\n",
        "    print(num)"
      ],
      "metadata": {
        "colab": {
          "base_uri": "https://localhost:8080/"
        },
        "id": "tPVzRSFyZEBc",
        "outputId": "5de059ea-6ad2-4908-b356-2ef77049c6d8"
      },
      "execution_count": 41,
      "outputs": [
        {
          "output_type": "stream",
          "name": "stdout",
          "text": [
            "1\n",
            "3\n",
            "5\n",
            "7\n",
            "9\n",
            "11\n",
            "13\n",
            "15\n",
            "17\n",
            "19\n"
          ]
        }
      ]
    },
    {
      "cell_type": "code",
      "source": [
        "# Print numbers from 1 to 15 using While Loop\n",
        "\n",
        "a = 1\n",
        "while a <= 15:\n",
        "  print(a)\n",
        "  a += 1"
      ],
      "metadata": {
        "colab": {
          "base_uri": "https://localhost:8080/"
        },
        "id": "kabofx0UZ2Cr",
        "outputId": "6cc836c0-9202-457d-ea0e-c8e978a0ec42"
      },
      "execution_count": 45,
      "outputs": [
        {
          "output_type": "stream",
          "name": "stdout",
          "text": [
            "1\n",
            "2\n",
            "3\n",
            "4\n",
            "5\n",
            "6\n",
            "7\n",
            "8\n",
            "9\n",
            "10\n",
            "11\n",
            "12\n",
            "13\n",
            "14\n",
            "15\n"
          ]
        }
      ]
    },
    {
      "cell_type": "code",
      "source": [
        "# Print even numbers from 1 to 20 using While Loop\n",
        "\n",
        "a = 2\n",
        "while a <= 20:\n",
        "  print(a)\n",
        "  a += 2"
      ],
      "metadata": {
        "colab": {
          "base_uri": "https://localhost:8080/"
        },
        "id": "m_Z257yCaXzn",
        "outputId": "2475c64f-8e33-40f2-c7b0-861f9d0c866b"
      },
      "execution_count": 46,
      "outputs": [
        {
          "output_type": "stream",
          "name": "stdout",
          "text": [
            "2\n",
            "4\n",
            "6\n",
            "8\n",
            "10\n",
            "12\n",
            "14\n",
            "16\n",
            "18\n",
            "20\n"
          ]
        }
      ]
    },
    {
      "cell_type": "code",
      "source": [
        "# Print odd numbers from 1 to 20 using While Loop\n",
        "\n",
        "a = 1\n",
        "while a <= 20:\n",
        "  print(a)\n",
        "  a += 2"
      ],
      "metadata": {
        "colab": {
          "base_uri": "https://localhost:8080/"
        },
        "id": "4FnUG3Oxavrg",
        "outputId": "768b0de0-6fb9-4b92-8c68-621792edde08"
      },
      "execution_count": 47,
      "outputs": [
        {
          "output_type": "stream",
          "name": "stdout",
          "text": [
            "1\n",
            "3\n",
            "5\n",
            "7\n",
            "9\n",
            "11\n",
            "13\n",
            "15\n",
            "17\n",
            "19\n"
          ]
        }
      ]
    },
    {
      "cell_type": "code",
      "source": [
        "# Functions\n",
        "\"\"\"\n",
        "Instead of writing the same formular every time,\n",
        "we use a function to define it once, then call it whenever needed.\n",
        "\"\"\"\n",
        "\n",
        "def greet():\n",
        "  print('Hello, welcome to Python')\n",
        "\n",
        "greet()\n",
        "greet()\n"
      ],
      "metadata": {
        "colab": {
          "base_uri": "https://localhost:8080/"
        },
        "id": "rDylKei-cHu-",
        "outputId": "d63fc36d-55ea-46fd-8d97-1da7467702a5"
      },
      "execution_count": 50,
      "outputs": [
        {
          "output_type": "stream",
          "name": "stdout",
          "text": [
            "Hello, welcome to Python\n",
            "Hello, welcome to Python\n"
          ]
        }
      ]
    },
    {
      "cell_type": "code",
      "source": [
        "# Function with Parameter\n",
        "def greet_with_name(name):\n",
        "  print('Hello', name, 'welcome to Python')\n",
        "\n",
        "greet_with_name('Korede')\n",
        "greet_with_name('Tanya')\n",
        "\n",
        "def greet_with_name(name, lastname):\n",
        "  print('Hello', name, lastname, 'welcome to Python')\n",
        "\n",
        "greet_with_name('Korede','Oluwadare')\n",
        "greet_with_name('Tanya', 'Roberts')"
      ],
      "metadata": {
        "colab": {
          "base_uri": "https://localhost:8080/"
        },
        "id": "lvsD1y5seP2o",
        "outputId": "225c7469-eb0b-4a99-c1c5-173977dec753"
      },
      "execution_count": 52,
      "outputs": [
        {
          "output_type": "stream",
          "name": "stdout",
          "text": [
            "Hello Korede welcome to Python\n",
            "Hello Tanya welcome to Python\n",
            "Hello Korede Oluwadare welcome to Python\n",
            "Hello Tanya Roberts welcome to Python\n"
          ]
        }
      ]
    },
    {
      "cell_type": "code",
      "source": [
        "# Function with Default Parameter\n",
        "def greet_with_name(name):\n",
        "  print('Hello', name, 'welcome to Python')\n",
        "\n",
        "greet_with_name('Korede')\n",
        "greet_with_name('Tanya')\n",
        "\n",
        "def greet_with_name(name, lastname):\n",
        "  print('Hello', name, lastname, 'welcome to Python')\n",
        "\n",
        "greet_with_name('Korede','Oluwadare')\n",
        "greet_with_name('Tanya', 'Roberts')"
      ],
      "metadata": {
        "id": "lB2mrMKGfjLj"
      },
      "execution_count": null,
      "outputs": []
    },
    {
      "cell_type": "code",
      "source": [
        "def format_name():\n",
        "    # Taking user's full name as input\n",
        "    full_name = input(\"Enter your full name: \")\n",
        "\n",
        "    # Remove extra spaces, capitalize first letter of each word and replace space with hyphen\n",
        "    formatted_name = '-'.join(word.capitalize() for word in full_name.split())\n",
        "\n",
        "    return formatted_name\n",
        "\n",
        "# Call the function and display the result\n",
        "formatted_name = format_name()\n",
        "print(f\"Formatted name: {formatted_name}\")\n"
      ],
      "metadata": {
        "colab": {
          "base_uri": "https://localhost:8080/"
        },
        "id": "CngSUj4Pr9r9",
        "outputId": "4fea9275-aa67-4bbf-abdb-9ca26ec86017"
      },
      "execution_count": null,
      "outputs": [
        {
          "output_type": "stream",
          "name": "stdout",
          "text": [
            "Enter your full name: Korede Oluwadare\n",
            "Formatted name: Korede-Oluwadare\n"
          ]
        }
      ]
    }
  ]
}